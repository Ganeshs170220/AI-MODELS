{
  "nbformat": 4,
  "nbformat_minor": 0,
  "metadata": {
    "colab": {
      "provenance": [],
      "authorship_tag": "ABX9TyMstgbtlmoLn88QMIJ8Ygqt",
      "include_colab_link": true
    },
    "kernelspec": {
      "name": "python3",
      "display_name": "Python 3"
    },
    "language_info": {
      "name": "python"
    },
    "widgets": {
      "application/vnd.jupyter.widget-state+json": {
        "59e529c98e7a48f586040e79e29e074d": {
          "model_module": "@jupyter-widgets/controls",
          "model_name": "HBoxModel",
          "model_module_version": "1.5.0",
          "state": {
            "_dom_classes": [],
            "_model_module": "@jupyter-widgets/controls",
            "_model_module_version": "1.5.0",
            "_model_name": "HBoxModel",
            "_view_count": null,
            "_view_module": "@jupyter-widgets/controls",
            "_view_module_version": "1.5.0",
            "_view_name": "HBoxView",
            "box_style": "",
            "children": [
              "IPY_MODEL_5e13f24147f6483abec0c1b245713575",
              "IPY_MODEL_6d80a6ddbde5494c977ea16e6de6ee3b",
              "IPY_MODEL_7888e5640383481887c2f96cd281b073"
            ],
            "layout": "IPY_MODEL_10b2cae3209e4ed59bd66311040002da"
          }
        },
        "5e13f24147f6483abec0c1b245713575": {
          "model_module": "@jupyter-widgets/controls",
          "model_name": "HTMLModel",
          "model_module_version": "1.5.0",
          "state": {
            "_dom_classes": [],
            "_model_module": "@jupyter-widgets/controls",
            "_model_module_version": "1.5.0",
            "_model_name": "HTMLModel",
            "_view_count": null,
            "_view_module": "@jupyter-widgets/controls",
            "_view_module_version": "1.5.0",
            "_view_name": "HTMLView",
            "description": "",
            "description_tooltip": null,
            "layout": "IPY_MODEL_ffe1c18806c54a6490db304d7cc5ce2f",
            "placeholder": "​",
            "style": "IPY_MODEL_994022b894cd494e8562d8305029424b",
            "value": "Downloading (…)lve/main/config.json: 100%"
          }
        },
        "6d80a6ddbde5494c977ea16e6de6ee3b": {
          "model_module": "@jupyter-widgets/controls",
          "model_name": "FloatProgressModel",
          "model_module_version": "1.5.0",
          "state": {
            "_dom_classes": [],
            "_model_module": "@jupyter-widgets/controls",
            "_model_module_version": "1.5.0",
            "_model_name": "FloatProgressModel",
            "_view_count": null,
            "_view_module": "@jupyter-widgets/controls",
            "_view_module_version": "1.5.0",
            "_view_name": "ProgressView",
            "bar_style": "success",
            "description": "",
            "description_tooltip": null,
            "layout": "IPY_MODEL_825f72532a8a4490b89420f1f2021f5f",
            "max": 1802,
            "min": 0,
            "orientation": "horizontal",
            "style": "IPY_MODEL_3785ca4378d5418ab52dd301100c2bd2",
            "value": 1802
          }
        },
        "7888e5640383481887c2f96cd281b073": {
          "model_module": "@jupyter-widgets/controls",
          "model_name": "HTMLModel",
          "model_module_version": "1.5.0",
          "state": {
            "_dom_classes": [],
            "_model_module": "@jupyter-widgets/controls",
            "_model_module_version": "1.5.0",
            "_model_name": "HTMLModel",
            "_view_count": null,
            "_view_module": "@jupyter-widgets/controls",
            "_view_module_version": "1.5.0",
            "_view_name": "HTMLView",
            "description": "",
            "description_tooltip": null,
            "layout": "IPY_MODEL_04e4494a0dfc4923ae95c0de6a519758",
            "placeholder": "​",
            "style": "IPY_MODEL_765d255e0e3f4e76823e41125ff0cdd1",
            "value": " 1.80k/1.80k [00:00&lt;00:00, 49.5kB/s]"
          }
        },
        "10b2cae3209e4ed59bd66311040002da": {
          "model_module": "@jupyter-widgets/base",
          "model_name": "LayoutModel",
          "model_module_version": "1.2.0",
          "state": {
            "_model_module": "@jupyter-widgets/base",
            "_model_module_version": "1.2.0",
            "_model_name": "LayoutModel",
            "_view_count": null,
            "_view_module": "@jupyter-widgets/base",
            "_view_module_version": "1.2.0",
            "_view_name": "LayoutView",
            "align_content": null,
            "align_items": null,
            "align_self": null,
            "border": null,
            "bottom": null,
            "display": null,
            "flex": null,
            "flex_flow": null,
            "grid_area": null,
            "grid_auto_columns": null,
            "grid_auto_flow": null,
            "grid_auto_rows": null,
            "grid_column": null,
            "grid_gap": null,
            "grid_row": null,
            "grid_template_areas": null,
            "grid_template_columns": null,
            "grid_template_rows": null,
            "height": null,
            "justify_content": null,
            "justify_items": null,
            "left": null,
            "margin": null,
            "max_height": null,
            "max_width": null,
            "min_height": null,
            "min_width": null,
            "object_fit": null,
            "object_position": null,
            "order": null,
            "overflow": null,
            "overflow_x": null,
            "overflow_y": null,
            "padding": null,
            "right": null,
            "top": null,
            "visibility": null,
            "width": null
          }
        },
        "ffe1c18806c54a6490db304d7cc5ce2f": {
          "model_module": "@jupyter-widgets/base",
          "model_name": "LayoutModel",
          "model_module_version": "1.2.0",
          "state": {
            "_model_module": "@jupyter-widgets/base",
            "_model_module_version": "1.2.0",
            "_model_name": "LayoutModel",
            "_view_count": null,
            "_view_module": "@jupyter-widgets/base",
            "_view_module_version": "1.2.0",
            "_view_name": "LayoutView",
            "align_content": null,
            "align_items": null,
            "align_self": null,
            "border": null,
            "bottom": null,
            "display": null,
            "flex": null,
            "flex_flow": null,
            "grid_area": null,
            "grid_auto_columns": null,
            "grid_auto_flow": null,
            "grid_auto_rows": null,
            "grid_column": null,
            "grid_gap": null,
            "grid_row": null,
            "grid_template_areas": null,
            "grid_template_columns": null,
            "grid_template_rows": null,
            "height": null,
            "justify_content": null,
            "justify_items": null,
            "left": null,
            "margin": null,
            "max_height": null,
            "max_width": null,
            "min_height": null,
            "min_width": null,
            "object_fit": null,
            "object_position": null,
            "order": null,
            "overflow": null,
            "overflow_x": null,
            "overflow_y": null,
            "padding": null,
            "right": null,
            "top": null,
            "visibility": null,
            "width": null
          }
        },
        "994022b894cd494e8562d8305029424b": {
          "model_module": "@jupyter-widgets/controls",
          "model_name": "DescriptionStyleModel",
          "model_module_version": "1.5.0",
          "state": {
            "_model_module": "@jupyter-widgets/controls",
            "_model_module_version": "1.5.0",
            "_model_name": "DescriptionStyleModel",
            "_view_count": null,
            "_view_module": "@jupyter-widgets/base",
            "_view_module_version": "1.2.0",
            "_view_name": "StyleView",
            "description_width": ""
          }
        },
        "825f72532a8a4490b89420f1f2021f5f": {
          "model_module": "@jupyter-widgets/base",
          "model_name": "LayoutModel",
          "model_module_version": "1.2.0",
          "state": {
            "_model_module": "@jupyter-widgets/base",
            "_model_module_version": "1.2.0",
            "_model_name": "LayoutModel",
            "_view_count": null,
            "_view_module": "@jupyter-widgets/base",
            "_view_module_version": "1.2.0",
            "_view_name": "LayoutView",
            "align_content": null,
            "align_items": null,
            "align_self": null,
            "border": null,
            "bottom": null,
            "display": null,
            "flex": null,
            "flex_flow": null,
            "grid_area": null,
            "grid_auto_columns": null,
            "grid_auto_flow": null,
            "grid_auto_rows": null,
            "grid_column": null,
            "grid_gap": null,
            "grid_row": null,
            "grid_template_areas": null,
            "grid_template_columns": null,
            "grid_template_rows": null,
            "height": null,
            "justify_content": null,
            "justify_items": null,
            "left": null,
            "margin": null,
            "max_height": null,
            "max_width": null,
            "min_height": null,
            "min_width": null,
            "object_fit": null,
            "object_position": null,
            "order": null,
            "overflow": null,
            "overflow_x": null,
            "overflow_y": null,
            "padding": null,
            "right": null,
            "top": null,
            "visibility": null,
            "width": null
          }
        },
        "3785ca4378d5418ab52dd301100c2bd2": {
          "model_module": "@jupyter-widgets/controls",
          "model_name": "ProgressStyleModel",
          "model_module_version": "1.5.0",
          "state": {
            "_model_module": "@jupyter-widgets/controls",
            "_model_module_version": "1.5.0",
            "_model_name": "ProgressStyleModel",
            "_view_count": null,
            "_view_module": "@jupyter-widgets/base",
            "_view_module_version": "1.2.0",
            "_view_name": "StyleView",
            "bar_color": null,
            "description_width": ""
          }
        },
        "04e4494a0dfc4923ae95c0de6a519758": {
          "model_module": "@jupyter-widgets/base",
          "model_name": "LayoutModel",
          "model_module_version": "1.2.0",
          "state": {
            "_model_module": "@jupyter-widgets/base",
            "_model_module_version": "1.2.0",
            "_model_name": "LayoutModel",
            "_view_count": null,
            "_view_module": "@jupyter-widgets/base",
            "_view_module_version": "1.2.0",
            "_view_name": "LayoutView",
            "align_content": null,
            "align_items": null,
            "align_self": null,
            "border": null,
            "bottom": null,
            "display": null,
            "flex": null,
            "flex_flow": null,
            "grid_area": null,
            "grid_auto_columns": null,
            "grid_auto_flow": null,
            "grid_auto_rows": null,
            "grid_column": null,
            "grid_gap": null,
            "grid_row": null,
            "grid_template_areas": null,
            "grid_template_columns": null,
            "grid_template_rows": null,
            "height": null,
            "justify_content": null,
            "justify_items": null,
            "left": null,
            "margin": null,
            "max_height": null,
            "max_width": null,
            "min_height": null,
            "min_width": null,
            "object_fit": null,
            "object_position": null,
            "order": null,
            "overflow": null,
            "overflow_x": null,
            "overflow_y": null,
            "padding": null,
            "right": null,
            "top": null,
            "visibility": null,
            "width": null
          }
        },
        "765d255e0e3f4e76823e41125ff0cdd1": {
          "model_module": "@jupyter-widgets/controls",
          "model_name": "DescriptionStyleModel",
          "model_module_version": "1.5.0",
          "state": {
            "_model_module": "@jupyter-widgets/controls",
            "_model_module_version": "1.5.0",
            "_model_name": "DescriptionStyleModel",
            "_view_count": null,
            "_view_module": "@jupyter-widgets/base",
            "_view_module_version": "1.2.0",
            "_view_name": "StyleView",
            "description_width": ""
          }
        },
        "4622216ee7494c0cac618ad0b147bcfe": {
          "model_module": "@jupyter-widgets/controls",
          "model_name": "HBoxModel",
          "model_module_version": "1.5.0",
          "state": {
            "_dom_classes": [],
            "_model_module": "@jupyter-widgets/controls",
            "_model_module_version": "1.5.0",
            "_model_name": "HBoxModel",
            "_view_count": null,
            "_view_module": "@jupyter-widgets/controls",
            "_view_module_version": "1.5.0",
            "_view_name": "HBoxView",
            "box_style": "",
            "children": [
              "IPY_MODEL_d7bf9a5f0f6f4322b87c98350f621071",
              "IPY_MODEL_ffc315ec7fd9458d8a0144b5d703ce71",
              "IPY_MODEL_0b62c438682d42d694146825040d48e4"
            ],
            "layout": "IPY_MODEL_4750b27cbf0346bba0e05864bf8a151a"
          }
        },
        "d7bf9a5f0f6f4322b87c98350f621071": {
          "model_module": "@jupyter-widgets/controls",
          "model_name": "HTMLModel",
          "model_module_version": "1.5.0",
          "state": {
            "_dom_classes": [],
            "_model_module": "@jupyter-widgets/controls",
            "_model_module_version": "1.5.0",
            "_model_name": "HTMLModel",
            "_view_count": null,
            "_view_module": "@jupyter-widgets/controls",
            "_view_module_version": "1.5.0",
            "_view_name": "HTMLView",
            "description": "",
            "description_tooltip": null,
            "layout": "IPY_MODEL_1b77b14b7e17408f8698bab9fef0d278",
            "placeholder": "​",
            "style": "IPY_MODEL_30799030b8dd4b2bb8c22c3d1422f248",
            "value": "Downloading pytorch_model.bin: 100%"
          }
        },
        "ffc315ec7fd9458d8a0144b5d703ce71": {
          "model_module": "@jupyter-widgets/controls",
          "model_name": "FloatProgressModel",
          "model_module_version": "1.5.0",
          "state": {
            "_dom_classes": [],
            "_model_module": "@jupyter-widgets/controls",
            "_model_module_version": "1.5.0",
            "_model_name": "FloatProgressModel",
            "_view_count": null,
            "_view_module": "@jupyter-widgets/controls",
            "_view_module_version": "1.5.0",
            "_view_name": "ProgressView",
            "bar_style": "success",
            "description": "",
            "description_tooltip": null,
            "layout": "IPY_MODEL_d5a36097659b4602943749267078f8a3",
            "max": 1222317369,
            "min": 0,
            "orientation": "horizontal",
            "style": "IPY_MODEL_253322b9cb384b109bfdf623adb82a28",
            "value": 1222317369
          }
        },
        "0b62c438682d42d694146825040d48e4": {
          "model_module": "@jupyter-widgets/controls",
          "model_name": "HTMLModel",
          "model_module_version": "1.5.0",
          "state": {
            "_dom_classes": [],
            "_model_module": "@jupyter-widgets/controls",
            "_model_module_version": "1.5.0",
            "_model_name": "HTMLModel",
            "_view_count": null,
            "_view_module": "@jupyter-widgets/controls",
            "_view_module_version": "1.5.0",
            "_view_name": "HTMLView",
            "description": "",
            "description_tooltip": null,
            "layout": "IPY_MODEL_854c096d314e467b824e12c6b055628a",
            "placeholder": "​",
            "style": "IPY_MODEL_f7552f02ad4146b59f3a020162f4162f",
            "value": " 1.22G/1.22G [00:07&lt;00:00, 213MB/s]"
          }
        },
        "4750b27cbf0346bba0e05864bf8a151a": {
          "model_module": "@jupyter-widgets/base",
          "model_name": "LayoutModel",
          "model_module_version": "1.2.0",
          "state": {
            "_model_module": "@jupyter-widgets/base",
            "_model_module_version": "1.2.0",
            "_model_name": "LayoutModel",
            "_view_count": null,
            "_view_module": "@jupyter-widgets/base",
            "_view_module_version": "1.2.0",
            "_view_name": "LayoutView",
            "align_content": null,
            "align_items": null,
            "align_self": null,
            "border": null,
            "bottom": null,
            "display": null,
            "flex": null,
            "flex_flow": null,
            "grid_area": null,
            "grid_auto_columns": null,
            "grid_auto_flow": null,
            "grid_auto_rows": null,
            "grid_column": null,
            "grid_gap": null,
            "grid_row": null,
            "grid_template_areas": null,
            "grid_template_columns": null,
            "grid_template_rows": null,
            "height": null,
            "justify_content": null,
            "justify_items": null,
            "left": null,
            "margin": null,
            "max_height": null,
            "max_width": null,
            "min_height": null,
            "min_width": null,
            "object_fit": null,
            "object_position": null,
            "order": null,
            "overflow": null,
            "overflow_x": null,
            "overflow_y": null,
            "padding": null,
            "right": null,
            "top": null,
            "visibility": null,
            "width": null
          }
        },
        "1b77b14b7e17408f8698bab9fef0d278": {
          "model_module": "@jupyter-widgets/base",
          "model_name": "LayoutModel",
          "model_module_version": "1.2.0",
          "state": {
            "_model_module": "@jupyter-widgets/base",
            "_model_module_version": "1.2.0",
            "_model_name": "LayoutModel",
            "_view_count": null,
            "_view_module": "@jupyter-widgets/base",
            "_view_module_version": "1.2.0",
            "_view_name": "LayoutView",
            "align_content": null,
            "align_items": null,
            "align_self": null,
            "border": null,
            "bottom": null,
            "display": null,
            "flex": null,
            "flex_flow": null,
            "grid_area": null,
            "grid_auto_columns": null,
            "grid_auto_flow": null,
            "grid_auto_rows": null,
            "grid_column": null,
            "grid_gap": null,
            "grid_row": null,
            "grid_template_areas": null,
            "grid_template_columns": null,
            "grid_template_rows": null,
            "height": null,
            "justify_content": null,
            "justify_items": null,
            "left": null,
            "margin": null,
            "max_height": null,
            "max_width": null,
            "min_height": null,
            "min_width": null,
            "object_fit": null,
            "object_position": null,
            "order": null,
            "overflow": null,
            "overflow_x": null,
            "overflow_y": null,
            "padding": null,
            "right": null,
            "top": null,
            "visibility": null,
            "width": null
          }
        },
        "30799030b8dd4b2bb8c22c3d1422f248": {
          "model_module": "@jupyter-widgets/controls",
          "model_name": "DescriptionStyleModel",
          "model_module_version": "1.5.0",
          "state": {
            "_model_module": "@jupyter-widgets/controls",
            "_model_module_version": "1.5.0",
            "_model_name": "DescriptionStyleModel",
            "_view_count": null,
            "_view_module": "@jupyter-widgets/base",
            "_view_module_version": "1.2.0",
            "_view_name": "StyleView",
            "description_width": ""
          }
        },
        "d5a36097659b4602943749267078f8a3": {
          "model_module": "@jupyter-widgets/base",
          "model_name": "LayoutModel",
          "model_module_version": "1.2.0",
          "state": {
            "_model_module": "@jupyter-widgets/base",
            "_model_module_version": "1.2.0",
            "_model_name": "LayoutModel",
            "_view_count": null,
            "_view_module": "@jupyter-widgets/base",
            "_view_module_version": "1.2.0",
            "_view_name": "LayoutView",
            "align_content": null,
            "align_items": null,
            "align_self": null,
            "border": null,
            "bottom": null,
            "display": null,
            "flex": null,
            "flex_flow": null,
            "grid_area": null,
            "grid_auto_columns": null,
            "grid_auto_flow": null,
            "grid_auto_rows": null,
            "grid_column": null,
            "grid_gap": null,
            "grid_row": null,
            "grid_template_areas": null,
            "grid_template_columns": null,
            "grid_template_rows": null,
            "height": null,
            "justify_content": null,
            "justify_items": null,
            "left": null,
            "margin": null,
            "max_height": null,
            "max_width": null,
            "min_height": null,
            "min_width": null,
            "object_fit": null,
            "object_position": null,
            "order": null,
            "overflow": null,
            "overflow_x": null,
            "overflow_y": null,
            "padding": null,
            "right": null,
            "top": null,
            "visibility": null,
            "width": null
          }
        },
        "253322b9cb384b109bfdf623adb82a28": {
          "model_module": "@jupyter-widgets/controls",
          "model_name": "ProgressStyleModel",
          "model_module_version": "1.5.0",
          "state": {
            "_model_module": "@jupyter-widgets/controls",
            "_model_module_version": "1.5.0",
            "_model_name": "ProgressStyleModel",
            "_view_count": null,
            "_view_module": "@jupyter-widgets/base",
            "_view_module_version": "1.2.0",
            "_view_name": "StyleView",
            "bar_color": null,
            "description_width": ""
          }
        },
        "854c096d314e467b824e12c6b055628a": {
          "model_module": "@jupyter-widgets/base",
          "model_name": "LayoutModel",
          "model_module_version": "1.2.0",
          "state": {
            "_model_module": "@jupyter-widgets/base",
            "_model_module_version": "1.2.0",
            "_model_name": "LayoutModel",
            "_view_count": null,
            "_view_module": "@jupyter-widgets/base",
            "_view_module_version": "1.2.0",
            "_view_name": "LayoutView",
            "align_content": null,
            "align_items": null,
            "align_self": null,
            "border": null,
            "bottom": null,
            "display": null,
            "flex": null,
            "flex_flow": null,
            "grid_area": null,
            "grid_auto_columns": null,
            "grid_auto_flow": null,
            "grid_auto_rows": null,
            "grid_column": null,
            "grid_gap": null,
            "grid_row": null,
            "grid_template_areas": null,
            "grid_template_columns": null,
            "grid_template_rows": null,
            "height": null,
            "justify_content": null,
            "justify_items": null,
            "left": null,
            "margin": null,
            "max_height": null,
            "max_width": null,
            "min_height": null,
            "min_width": null,
            "object_fit": null,
            "object_position": null,
            "order": null,
            "overflow": null,
            "overflow_x": null,
            "overflow_y": null,
            "padding": null,
            "right": null,
            "top": null,
            "visibility": null,
            "width": null
          }
        },
        "f7552f02ad4146b59f3a020162f4162f": {
          "model_module": "@jupyter-widgets/controls",
          "model_name": "DescriptionStyleModel",
          "model_module_version": "1.5.0",
          "state": {
            "_model_module": "@jupyter-widgets/controls",
            "_model_module_version": "1.5.0",
            "_model_name": "DescriptionStyleModel",
            "_view_count": null,
            "_view_module": "@jupyter-widgets/base",
            "_view_module_version": "1.2.0",
            "_view_name": "StyleView",
            "description_width": ""
          }
        },
        "7066126339894ef4bd34c815bfe77cce": {
          "model_module": "@jupyter-widgets/controls",
          "model_name": "HBoxModel",
          "model_module_version": "1.5.0",
          "state": {
            "_dom_classes": [],
            "_model_module": "@jupyter-widgets/controls",
            "_model_module_version": "1.5.0",
            "_model_name": "HBoxModel",
            "_view_count": null,
            "_view_module": "@jupyter-widgets/controls",
            "_view_module_version": "1.5.0",
            "_view_name": "HBoxView",
            "box_style": "",
            "children": [
              "IPY_MODEL_fddc6e47532e473e8cb1e4636d312e8c",
              "IPY_MODEL_8a47625756434e04922b825172313c8f",
              "IPY_MODEL_3119fd331f534b619a81c277154964c0"
            ],
            "layout": "IPY_MODEL_5592c7eb41404c1aafbb5388d7add444"
          }
        },
        "fddc6e47532e473e8cb1e4636d312e8c": {
          "model_module": "@jupyter-widgets/controls",
          "model_name": "HTMLModel",
          "model_module_version": "1.5.0",
          "state": {
            "_dom_classes": [],
            "_model_module": "@jupyter-widgets/controls",
            "_model_module_version": "1.5.0",
            "_model_name": "HTMLModel",
            "_view_count": null,
            "_view_module": "@jupyter-widgets/controls",
            "_view_module_version": "1.5.0",
            "_view_name": "HTMLView",
            "description": "",
            "description_tooltip": null,
            "layout": "IPY_MODEL_acd015ffeec9410fba77db4b0132caa8",
            "placeholder": "​",
            "style": "IPY_MODEL_061d722868d9402086e5662ecb733ff0",
            "value": "Downloading (…)okenizer_config.json: 100%"
          }
        },
        "8a47625756434e04922b825172313c8f": {
          "model_module": "@jupyter-widgets/controls",
          "model_name": "FloatProgressModel",
          "model_module_version": "1.5.0",
          "state": {
            "_dom_classes": [],
            "_model_module": "@jupyter-widgets/controls",
            "_model_module_version": "1.5.0",
            "_model_name": "FloatProgressModel",
            "_view_count": null,
            "_view_module": "@jupyter-widgets/controls",
            "_view_module_version": "1.5.0",
            "_view_name": "ProgressView",
            "bar_style": "success",
            "description": "",
            "description_tooltip": null,
            "layout": "IPY_MODEL_5400d2eec3884fa1abd08744de2ae4da",
            "max": 26,
            "min": 0,
            "orientation": "horizontal",
            "style": "IPY_MODEL_e57d52f5cc39460fa8fe3330b16a9fed",
            "value": 26
          }
        },
        "3119fd331f534b619a81c277154964c0": {
          "model_module": "@jupyter-widgets/controls",
          "model_name": "HTMLModel",
          "model_module_version": "1.5.0",
          "state": {
            "_dom_classes": [],
            "_model_module": "@jupyter-widgets/controls",
            "_model_module_version": "1.5.0",
            "_model_name": "HTMLModel",
            "_view_count": null,
            "_view_module": "@jupyter-widgets/controls",
            "_view_module_version": "1.5.0",
            "_view_name": "HTMLView",
            "description": "",
            "description_tooltip": null,
            "layout": "IPY_MODEL_5369d1e03c3747d5a44381805b36962d",
            "placeholder": "​",
            "style": "IPY_MODEL_4043e1a33b3b43649a7efdf221d37961",
            "value": " 26.0/26.0 [00:00&lt;00:00, 1.36kB/s]"
          }
        },
        "5592c7eb41404c1aafbb5388d7add444": {
          "model_module": "@jupyter-widgets/base",
          "model_name": "LayoutModel",
          "model_module_version": "1.2.0",
          "state": {
            "_model_module": "@jupyter-widgets/base",
            "_model_module_version": "1.2.0",
            "_model_name": "LayoutModel",
            "_view_count": null,
            "_view_module": "@jupyter-widgets/base",
            "_view_module_version": "1.2.0",
            "_view_name": "LayoutView",
            "align_content": null,
            "align_items": null,
            "align_self": null,
            "border": null,
            "bottom": null,
            "display": null,
            "flex": null,
            "flex_flow": null,
            "grid_area": null,
            "grid_auto_columns": null,
            "grid_auto_flow": null,
            "grid_auto_rows": null,
            "grid_column": null,
            "grid_gap": null,
            "grid_row": null,
            "grid_template_areas": null,
            "grid_template_columns": null,
            "grid_template_rows": null,
            "height": null,
            "justify_content": null,
            "justify_items": null,
            "left": null,
            "margin": null,
            "max_height": null,
            "max_width": null,
            "min_height": null,
            "min_width": null,
            "object_fit": null,
            "object_position": null,
            "order": null,
            "overflow": null,
            "overflow_x": null,
            "overflow_y": null,
            "padding": null,
            "right": null,
            "top": null,
            "visibility": null,
            "width": null
          }
        },
        "acd015ffeec9410fba77db4b0132caa8": {
          "model_module": "@jupyter-widgets/base",
          "model_name": "LayoutModel",
          "model_module_version": "1.2.0",
          "state": {
            "_model_module": "@jupyter-widgets/base",
            "_model_module_version": "1.2.0",
            "_model_name": "LayoutModel",
            "_view_count": null,
            "_view_module": "@jupyter-widgets/base",
            "_view_module_version": "1.2.0",
            "_view_name": "LayoutView",
            "align_content": null,
            "align_items": null,
            "align_self": null,
            "border": null,
            "bottom": null,
            "display": null,
            "flex": null,
            "flex_flow": null,
            "grid_area": null,
            "grid_auto_columns": null,
            "grid_auto_flow": null,
            "grid_auto_rows": null,
            "grid_column": null,
            "grid_gap": null,
            "grid_row": null,
            "grid_template_areas": null,
            "grid_template_columns": null,
            "grid_template_rows": null,
            "height": null,
            "justify_content": null,
            "justify_items": null,
            "left": null,
            "margin": null,
            "max_height": null,
            "max_width": null,
            "min_height": null,
            "min_width": null,
            "object_fit": null,
            "object_position": null,
            "order": null,
            "overflow": null,
            "overflow_x": null,
            "overflow_y": null,
            "padding": null,
            "right": null,
            "top": null,
            "visibility": null,
            "width": null
          }
        },
        "061d722868d9402086e5662ecb733ff0": {
          "model_module": "@jupyter-widgets/controls",
          "model_name": "DescriptionStyleModel",
          "model_module_version": "1.5.0",
          "state": {
            "_model_module": "@jupyter-widgets/controls",
            "_model_module_version": "1.5.0",
            "_model_name": "DescriptionStyleModel",
            "_view_count": null,
            "_view_module": "@jupyter-widgets/base",
            "_view_module_version": "1.2.0",
            "_view_name": "StyleView",
            "description_width": ""
          }
        },
        "5400d2eec3884fa1abd08744de2ae4da": {
          "model_module": "@jupyter-widgets/base",
          "model_name": "LayoutModel",
          "model_module_version": "1.2.0",
          "state": {
            "_model_module": "@jupyter-widgets/base",
            "_model_module_version": "1.2.0",
            "_model_name": "LayoutModel",
            "_view_count": null,
            "_view_module": "@jupyter-widgets/base",
            "_view_module_version": "1.2.0",
            "_view_name": "LayoutView",
            "align_content": null,
            "align_items": null,
            "align_self": null,
            "border": null,
            "bottom": null,
            "display": null,
            "flex": null,
            "flex_flow": null,
            "grid_area": null,
            "grid_auto_columns": null,
            "grid_auto_flow": null,
            "grid_auto_rows": null,
            "grid_column": null,
            "grid_gap": null,
            "grid_row": null,
            "grid_template_areas": null,
            "grid_template_columns": null,
            "grid_template_rows": null,
            "height": null,
            "justify_content": null,
            "justify_items": null,
            "left": null,
            "margin": null,
            "max_height": null,
            "max_width": null,
            "min_height": null,
            "min_width": null,
            "object_fit": null,
            "object_position": null,
            "order": null,
            "overflow": null,
            "overflow_x": null,
            "overflow_y": null,
            "padding": null,
            "right": null,
            "top": null,
            "visibility": null,
            "width": null
          }
        },
        "e57d52f5cc39460fa8fe3330b16a9fed": {
          "model_module": "@jupyter-widgets/controls",
          "model_name": "ProgressStyleModel",
          "model_module_version": "1.5.0",
          "state": {
            "_model_module": "@jupyter-widgets/controls",
            "_model_module_version": "1.5.0",
            "_model_name": "ProgressStyleModel",
            "_view_count": null,
            "_view_module": "@jupyter-widgets/base",
            "_view_module_version": "1.2.0",
            "_view_name": "StyleView",
            "bar_color": null,
            "description_width": ""
          }
        },
        "5369d1e03c3747d5a44381805b36962d": {
          "model_module": "@jupyter-widgets/base",
          "model_name": "LayoutModel",
          "model_module_version": "1.2.0",
          "state": {
            "_model_module": "@jupyter-widgets/base",
            "_model_module_version": "1.2.0",
            "_model_name": "LayoutModel",
            "_view_count": null,
            "_view_module": "@jupyter-widgets/base",
            "_view_module_version": "1.2.0",
            "_view_name": "LayoutView",
            "align_content": null,
            "align_items": null,
            "align_self": null,
            "border": null,
            "bottom": null,
            "display": null,
            "flex": null,
            "flex_flow": null,
            "grid_area": null,
            "grid_auto_columns": null,
            "grid_auto_flow": null,
            "grid_auto_rows": null,
            "grid_column": null,
            "grid_gap": null,
            "grid_row": null,
            "grid_template_areas": null,
            "grid_template_columns": null,
            "grid_template_rows": null,
            "height": null,
            "justify_content": null,
            "justify_items": null,
            "left": null,
            "margin": null,
            "max_height": null,
            "max_width": null,
            "min_height": null,
            "min_width": null,
            "object_fit": null,
            "object_position": null,
            "order": null,
            "overflow": null,
            "overflow_x": null,
            "overflow_y": null,
            "padding": null,
            "right": null,
            "top": null,
            "visibility": null,
            "width": null
          }
        },
        "4043e1a33b3b43649a7efdf221d37961": {
          "model_module": "@jupyter-widgets/controls",
          "model_name": "DescriptionStyleModel",
          "model_module_version": "1.5.0",
          "state": {
            "_model_module": "@jupyter-widgets/controls",
            "_model_module_version": "1.5.0",
            "_model_name": "DescriptionStyleModel",
            "_view_count": null,
            "_view_module": "@jupyter-widgets/base",
            "_view_module_version": "1.2.0",
            "_view_name": "StyleView",
            "description_width": ""
          }
        },
        "37b3c1b383cf4f5fb11d7d714c7b7d59": {
          "model_module": "@jupyter-widgets/controls",
          "model_name": "HBoxModel",
          "model_module_version": "1.5.0",
          "state": {
            "_dom_classes": [],
            "_model_module": "@jupyter-widgets/controls",
            "_model_module_version": "1.5.0",
            "_model_name": "HBoxModel",
            "_view_count": null,
            "_view_module": "@jupyter-widgets/controls",
            "_view_module_version": "1.5.0",
            "_view_name": "HBoxView",
            "box_style": "",
            "children": [
              "IPY_MODEL_72fde64753034ebfbc086a34678d0e11",
              "IPY_MODEL_039beac4b50a4e26b8b2dd59855519db",
              "IPY_MODEL_7a028461d4874f599d24ab13369c8e97"
            ],
            "layout": "IPY_MODEL_79f8eb91298346529c28a400859f0801"
          }
        },
        "72fde64753034ebfbc086a34678d0e11": {
          "model_module": "@jupyter-widgets/controls",
          "model_name": "HTMLModel",
          "model_module_version": "1.5.0",
          "state": {
            "_dom_classes": [],
            "_model_module": "@jupyter-widgets/controls",
            "_model_module_version": "1.5.0",
            "_model_name": "HTMLModel",
            "_view_count": null,
            "_view_module": "@jupyter-widgets/controls",
            "_view_module_version": "1.5.0",
            "_view_name": "HTMLView",
            "description": "",
            "description_tooltip": null,
            "layout": "IPY_MODEL_6596a84f9dd6434b97c9d328377614d7",
            "placeholder": "​",
            "style": "IPY_MODEL_a53a20ad07774dfd9cdb83e6b38120e1",
            "value": "Downloading (…)olve/main/vocab.json: 100%"
          }
        },
        "039beac4b50a4e26b8b2dd59855519db": {
          "model_module": "@jupyter-widgets/controls",
          "model_name": "FloatProgressModel",
          "model_module_version": "1.5.0",
          "state": {
            "_dom_classes": [],
            "_model_module": "@jupyter-widgets/controls",
            "_model_module_version": "1.5.0",
            "_model_name": "FloatProgressModel",
            "_view_count": null,
            "_view_module": "@jupyter-widgets/controls",
            "_view_module_version": "1.5.0",
            "_view_name": "ProgressView",
            "bar_style": "success",
            "description": "",
            "description_tooltip": null,
            "layout": "IPY_MODEL_5edc8fd7f7d54f63a8a7a1d98c812984",
            "max": 898822,
            "min": 0,
            "orientation": "horizontal",
            "style": "IPY_MODEL_328d99e8c1384b89970b444a1c8f8fa8",
            "value": 898822
          }
        },
        "7a028461d4874f599d24ab13369c8e97": {
          "model_module": "@jupyter-widgets/controls",
          "model_name": "HTMLModel",
          "model_module_version": "1.5.0",
          "state": {
            "_dom_classes": [],
            "_model_module": "@jupyter-widgets/controls",
            "_model_module_version": "1.5.0",
            "_model_name": "HTMLModel",
            "_view_count": null,
            "_view_module": "@jupyter-widgets/controls",
            "_view_module_version": "1.5.0",
            "_view_name": "HTMLView",
            "description": "",
            "description_tooltip": null,
            "layout": "IPY_MODEL_e0b841812444470fa155b17e907319ba",
            "placeholder": "​",
            "style": "IPY_MODEL_5337a21ef57141029ab4fcd093c5e691",
            "value": " 899k/899k [00:00&lt;00:00, 2.75MB/s]"
          }
        },
        "79f8eb91298346529c28a400859f0801": {
          "model_module": "@jupyter-widgets/base",
          "model_name": "LayoutModel",
          "model_module_version": "1.2.0",
          "state": {
            "_model_module": "@jupyter-widgets/base",
            "_model_module_version": "1.2.0",
            "_model_name": "LayoutModel",
            "_view_count": null,
            "_view_module": "@jupyter-widgets/base",
            "_view_module_version": "1.2.0",
            "_view_name": "LayoutView",
            "align_content": null,
            "align_items": null,
            "align_self": null,
            "border": null,
            "bottom": null,
            "display": null,
            "flex": null,
            "flex_flow": null,
            "grid_area": null,
            "grid_auto_columns": null,
            "grid_auto_flow": null,
            "grid_auto_rows": null,
            "grid_column": null,
            "grid_gap": null,
            "grid_row": null,
            "grid_template_areas": null,
            "grid_template_columns": null,
            "grid_template_rows": null,
            "height": null,
            "justify_content": null,
            "justify_items": null,
            "left": null,
            "margin": null,
            "max_height": null,
            "max_width": null,
            "min_height": null,
            "min_width": null,
            "object_fit": null,
            "object_position": null,
            "order": null,
            "overflow": null,
            "overflow_x": null,
            "overflow_y": null,
            "padding": null,
            "right": null,
            "top": null,
            "visibility": null,
            "width": null
          }
        },
        "6596a84f9dd6434b97c9d328377614d7": {
          "model_module": "@jupyter-widgets/base",
          "model_name": "LayoutModel",
          "model_module_version": "1.2.0",
          "state": {
            "_model_module": "@jupyter-widgets/base",
            "_model_module_version": "1.2.0",
            "_model_name": "LayoutModel",
            "_view_count": null,
            "_view_module": "@jupyter-widgets/base",
            "_view_module_version": "1.2.0",
            "_view_name": "LayoutView",
            "align_content": null,
            "align_items": null,
            "align_self": null,
            "border": null,
            "bottom": null,
            "display": null,
            "flex": null,
            "flex_flow": null,
            "grid_area": null,
            "grid_auto_columns": null,
            "grid_auto_flow": null,
            "grid_auto_rows": null,
            "grid_column": null,
            "grid_gap": null,
            "grid_row": null,
            "grid_template_areas": null,
            "grid_template_columns": null,
            "grid_template_rows": null,
            "height": null,
            "justify_content": null,
            "justify_items": null,
            "left": null,
            "margin": null,
            "max_height": null,
            "max_width": null,
            "min_height": null,
            "min_width": null,
            "object_fit": null,
            "object_position": null,
            "order": null,
            "overflow": null,
            "overflow_x": null,
            "overflow_y": null,
            "padding": null,
            "right": null,
            "top": null,
            "visibility": null,
            "width": null
          }
        },
        "a53a20ad07774dfd9cdb83e6b38120e1": {
          "model_module": "@jupyter-widgets/controls",
          "model_name": "DescriptionStyleModel",
          "model_module_version": "1.5.0",
          "state": {
            "_model_module": "@jupyter-widgets/controls",
            "_model_module_version": "1.5.0",
            "_model_name": "DescriptionStyleModel",
            "_view_count": null,
            "_view_module": "@jupyter-widgets/base",
            "_view_module_version": "1.2.0",
            "_view_name": "StyleView",
            "description_width": ""
          }
        },
        "5edc8fd7f7d54f63a8a7a1d98c812984": {
          "model_module": "@jupyter-widgets/base",
          "model_name": "LayoutModel",
          "model_module_version": "1.2.0",
          "state": {
            "_model_module": "@jupyter-widgets/base",
            "_model_module_version": "1.2.0",
            "_model_name": "LayoutModel",
            "_view_count": null,
            "_view_module": "@jupyter-widgets/base",
            "_view_module_version": "1.2.0",
            "_view_name": "LayoutView",
            "align_content": null,
            "align_items": null,
            "align_self": null,
            "border": null,
            "bottom": null,
            "display": null,
            "flex": null,
            "flex_flow": null,
            "grid_area": null,
            "grid_auto_columns": null,
            "grid_auto_flow": null,
            "grid_auto_rows": null,
            "grid_column": null,
            "grid_gap": null,
            "grid_row": null,
            "grid_template_areas": null,
            "grid_template_columns": null,
            "grid_template_rows": null,
            "height": null,
            "justify_content": null,
            "justify_items": null,
            "left": null,
            "margin": null,
            "max_height": null,
            "max_width": null,
            "min_height": null,
            "min_width": null,
            "object_fit": null,
            "object_position": null,
            "order": null,
            "overflow": null,
            "overflow_x": null,
            "overflow_y": null,
            "padding": null,
            "right": null,
            "top": null,
            "visibility": null,
            "width": null
          }
        },
        "328d99e8c1384b89970b444a1c8f8fa8": {
          "model_module": "@jupyter-widgets/controls",
          "model_name": "ProgressStyleModel",
          "model_module_version": "1.5.0",
          "state": {
            "_model_module": "@jupyter-widgets/controls",
            "_model_module_version": "1.5.0",
            "_model_name": "ProgressStyleModel",
            "_view_count": null,
            "_view_module": "@jupyter-widgets/base",
            "_view_module_version": "1.2.0",
            "_view_name": "StyleView",
            "bar_color": null,
            "description_width": ""
          }
        },
        "e0b841812444470fa155b17e907319ba": {
          "model_module": "@jupyter-widgets/base",
          "model_name": "LayoutModel",
          "model_module_version": "1.2.0",
          "state": {
            "_model_module": "@jupyter-widgets/base",
            "_model_module_version": "1.2.0",
            "_model_name": "LayoutModel",
            "_view_count": null,
            "_view_module": "@jupyter-widgets/base",
            "_view_module_version": "1.2.0",
            "_view_name": "LayoutView",
            "align_content": null,
            "align_items": null,
            "align_self": null,
            "border": null,
            "bottom": null,
            "display": null,
            "flex": null,
            "flex_flow": null,
            "grid_area": null,
            "grid_auto_columns": null,
            "grid_auto_flow": null,
            "grid_auto_rows": null,
            "grid_column": null,
            "grid_gap": null,
            "grid_row": null,
            "grid_template_areas": null,
            "grid_template_columns": null,
            "grid_template_rows": null,
            "height": null,
            "justify_content": null,
            "justify_items": null,
            "left": null,
            "margin": null,
            "max_height": null,
            "max_width": null,
            "min_height": null,
            "min_width": null,
            "object_fit": null,
            "object_position": null,
            "order": null,
            "overflow": null,
            "overflow_x": null,
            "overflow_y": null,
            "padding": null,
            "right": null,
            "top": null,
            "visibility": null,
            "width": null
          }
        },
        "5337a21ef57141029ab4fcd093c5e691": {
          "model_module": "@jupyter-widgets/controls",
          "model_name": "DescriptionStyleModel",
          "model_module_version": "1.5.0",
          "state": {
            "_model_module": "@jupyter-widgets/controls",
            "_model_module_version": "1.5.0",
            "_model_name": "DescriptionStyleModel",
            "_view_count": null,
            "_view_module": "@jupyter-widgets/base",
            "_view_module_version": "1.2.0",
            "_view_name": "StyleView",
            "description_width": ""
          }
        },
        "eec01c9d08c144ed844a37d0833ffe5a": {
          "model_module": "@jupyter-widgets/controls",
          "model_name": "HBoxModel",
          "model_module_version": "1.5.0",
          "state": {
            "_dom_classes": [],
            "_model_module": "@jupyter-widgets/controls",
            "_model_module_version": "1.5.0",
            "_model_name": "HBoxModel",
            "_view_count": null,
            "_view_module": "@jupyter-widgets/controls",
            "_view_module_version": "1.5.0",
            "_view_name": "HBoxView",
            "box_style": "",
            "children": [
              "IPY_MODEL_7ed00dd6ac474a8d80f6d4e9fb3308c1",
              "IPY_MODEL_00cdbb5f7d494fe19b27c836666dacbd",
              "IPY_MODEL_9a62b2ce1e0847f88d1e987fced6b2d3"
            ],
            "layout": "IPY_MODEL_1f25b08abc6a4f0baf40715f669cd1da"
          }
        },
        "7ed00dd6ac474a8d80f6d4e9fb3308c1": {
          "model_module": "@jupyter-widgets/controls",
          "model_name": "HTMLModel",
          "model_module_version": "1.5.0",
          "state": {
            "_dom_classes": [],
            "_model_module": "@jupyter-widgets/controls",
            "_model_module_version": "1.5.0",
            "_model_name": "HTMLModel",
            "_view_count": null,
            "_view_module": "@jupyter-widgets/controls",
            "_view_module_version": "1.5.0",
            "_view_name": "HTMLView",
            "description": "",
            "description_tooltip": null,
            "layout": "IPY_MODEL_ec300b730ac4446fb32b396889c9f4fa",
            "placeholder": "​",
            "style": "IPY_MODEL_8be45046893246daaad8dfc7d6ee68c8",
            "value": "Downloading (…)olve/main/merges.txt: 100%"
          }
        },
        "00cdbb5f7d494fe19b27c836666dacbd": {
          "model_module": "@jupyter-widgets/controls",
          "model_name": "FloatProgressModel",
          "model_module_version": "1.5.0",
          "state": {
            "_dom_classes": [],
            "_model_module": "@jupyter-widgets/controls",
            "_model_module_version": "1.5.0",
            "_model_name": "FloatProgressModel",
            "_view_count": null,
            "_view_module": "@jupyter-widgets/controls",
            "_view_module_version": "1.5.0",
            "_view_name": "ProgressView",
            "bar_style": "success",
            "description": "",
            "description_tooltip": null,
            "layout": "IPY_MODEL_42faeae0c82349318c5de4ff0fe86a13",
            "max": 456318,
            "min": 0,
            "orientation": "horizontal",
            "style": "IPY_MODEL_861383ab624549faa28ed602a6254e98",
            "value": 456318
          }
        },
        "9a62b2ce1e0847f88d1e987fced6b2d3": {
          "model_module": "@jupyter-widgets/controls",
          "model_name": "HTMLModel",
          "model_module_version": "1.5.0",
          "state": {
            "_dom_classes": [],
            "_model_module": "@jupyter-widgets/controls",
            "_model_module_version": "1.5.0",
            "_model_name": "HTMLModel",
            "_view_count": null,
            "_view_module": "@jupyter-widgets/controls",
            "_view_module_version": "1.5.0",
            "_view_name": "HTMLView",
            "description": "",
            "description_tooltip": null,
            "layout": "IPY_MODEL_6f4b695a772f499792a69f48994f3c42",
            "placeholder": "​",
            "style": "IPY_MODEL_708d04b421dd491fbcbb3a86a48ab048",
            "value": " 456k/456k [00:00&lt;00:00, 1.88MB/s]"
          }
        },
        "1f25b08abc6a4f0baf40715f669cd1da": {
          "model_module": "@jupyter-widgets/base",
          "model_name": "LayoutModel",
          "model_module_version": "1.2.0",
          "state": {
            "_model_module": "@jupyter-widgets/base",
            "_model_module_version": "1.2.0",
            "_model_name": "LayoutModel",
            "_view_count": null,
            "_view_module": "@jupyter-widgets/base",
            "_view_module_version": "1.2.0",
            "_view_name": "LayoutView",
            "align_content": null,
            "align_items": null,
            "align_self": null,
            "border": null,
            "bottom": null,
            "display": null,
            "flex": null,
            "flex_flow": null,
            "grid_area": null,
            "grid_auto_columns": null,
            "grid_auto_flow": null,
            "grid_auto_rows": null,
            "grid_column": null,
            "grid_gap": null,
            "grid_row": null,
            "grid_template_areas": null,
            "grid_template_columns": null,
            "grid_template_rows": null,
            "height": null,
            "justify_content": null,
            "justify_items": null,
            "left": null,
            "margin": null,
            "max_height": null,
            "max_width": null,
            "min_height": null,
            "min_width": null,
            "object_fit": null,
            "object_position": null,
            "order": null,
            "overflow": null,
            "overflow_x": null,
            "overflow_y": null,
            "padding": null,
            "right": null,
            "top": null,
            "visibility": null,
            "width": null
          }
        },
        "ec300b730ac4446fb32b396889c9f4fa": {
          "model_module": "@jupyter-widgets/base",
          "model_name": "LayoutModel",
          "model_module_version": "1.2.0",
          "state": {
            "_model_module": "@jupyter-widgets/base",
            "_model_module_version": "1.2.0",
            "_model_name": "LayoutModel",
            "_view_count": null,
            "_view_module": "@jupyter-widgets/base",
            "_view_module_version": "1.2.0",
            "_view_name": "LayoutView",
            "align_content": null,
            "align_items": null,
            "align_self": null,
            "border": null,
            "bottom": null,
            "display": null,
            "flex": null,
            "flex_flow": null,
            "grid_area": null,
            "grid_auto_columns": null,
            "grid_auto_flow": null,
            "grid_auto_rows": null,
            "grid_column": null,
            "grid_gap": null,
            "grid_row": null,
            "grid_template_areas": null,
            "grid_template_columns": null,
            "grid_template_rows": null,
            "height": null,
            "justify_content": null,
            "justify_items": null,
            "left": null,
            "margin": null,
            "max_height": null,
            "max_width": null,
            "min_height": null,
            "min_width": null,
            "object_fit": null,
            "object_position": null,
            "order": null,
            "overflow": null,
            "overflow_x": null,
            "overflow_y": null,
            "padding": null,
            "right": null,
            "top": null,
            "visibility": null,
            "width": null
          }
        },
        "8be45046893246daaad8dfc7d6ee68c8": {
          "model_module": "@jupyter-widgets/controls",
          "model_name": "DescriptionStyleModel",
          "model_module_version": "1.5.0",
          "state": {
            "_model_module": "@jupyter-widgets/controls",
            "_model_module_version": "1.5.0",
            "_model_name": "DescriptionStyleModel",
            "_view_count": null,
            "_view_module": "@jupyter-widgets/base",
            "_view_module_version": "1.2.0",
            "_view_name": "StyleView",
            "description_width": ""
          }
        },
        "42faeae0c82349318c5de4ff0fe86a13": {
          "model_module": "@jupyter-widgets/base",
          "model_name": "LayoutModel",
          "model_module_version": "1.2.0",
          "state": {
            "_model_module": "@jupyter-widgets/base",
            "_model_module_version": "1.2.0",
            "_model_name": "LayoutModel",
            "_view_count": null,
            "_view_module": "@jupyter-widgets/base",
            "_view_module_version": "1.2.0",
            "_view_name": "LayoutView",
            "align_content": null,
            "align_items": null,
            "align_self": null,
            "border": null,
            "bottom": null,
            "display": null,
            "flex": null,
            "flex_flow": null,
            "grid_area": null,
            "grid_auto_columns": null,
            "grid_auto_flow": null,
            "grid_auto_rows": null,
            "grid_column": null,
            "grid_gap": null,
            "grid_row": null,
            "grid_template_areas": null,
            "grid_template_columns": null,
            "grid_template_rows": null,
            "height": null,
            "justify_content": null,
            "justify_items": null,
            "left": null,
            "margin": null,
            "max_height": null,
            "max_width": null,
            "min_height": null,
            "min_width": null,
            "object_fit": null,
            "object_position": null,
            "order": null,
            "overflow": null,
            "overflow_x": null,
            "overflow_y": null,
            "padding": null,
            "right": null,
            "top": null,
            "visibility": null,
            "width": null
          }
        },
        "861383ab624549faa28ed602a6254e98": {
          "model_module": "@jupyter-widgets/controls",
          "model_name": "ProgressStyleModel",
          "model_module_version": "1.5.0",
          "state": {
            "_model_module": "@jupyter-widgets/controls",
            "_model_module_version": "1.5.0",
            "_model_name": "ProgressStyleModel",
            "_view_count": null,
            "_view_module": "@jupyter-widgets/base",
            "_view_module_version": "1.2.0",
            "_view_name": "StyleView",
            "bar_color": null,
            "description_width": ""
          }
        },
        "6f4b695a772f499792a69f48994f3c42": {
          "model_module": "@jupyter-widgets/base",
          "model_name": "LayoutModel",
          "model_module_version": "1.2.0",
          "state": {
            "_model_module": "@jupyter-widgets/base",
            "_model_module_version": "1.2.0",
            "_model_name": "LayoutModel",
            "_view_count": null,
            "_view_module": "@jupyter-widgets/base",
            "_view_module_version": "1.2.0",
            "_view_name": "LayoutView",
            "align_content": null,
            "align_items": null,
            "align_self": null,
            "border": null,
            "bottom": null,
            "display": null,
            "flex": null,
            "flex_flow": null,
            "grid_area": null,
            "grid_auto_columns": null,
            "grid_auto_flow": null,
            "grid_auto_rows": null,
            "grid_column": null,
            "grid_gap": null,
            "grid_row": null,
            "grid_template_areas": null,
            "grid_template_columns": null,
            "grid_template_rows": null,
            "height": null,
            "justify_content": null,
            "justify_items": null,
            "left": null,
            "margin": null,
            "max_height": null,
            "max_width": null,
            "min_height": null,
            "min_width": null,
            "object_fit": null,
            "object_position": null,
            "order": null,
            "overflow": null,
            "overflow_x": null,
            "overflow_y": null,
            "padding": null,
            "right": null,
            "top": null,
            "visibility": null,
            "width": null
          }
        },
        "708d04b421dd491fbcbb3a86a48ab048": {
          "model_module": "@jupyter-widgets/controls",
          "model_name": "DescriptionStyleModel",
          "model_module_version": "1.5.0",
          "state": {
            "_model_module": "@jupyter-widgets/controls",
            "_model_module_version": "1.5.0",
            "_model_name": "DescriptionStyleModel",
            "_view_count": null,
            "_view_module": "@jupyter-widgets/base",
            "_view_module_version": "1.2.0",
            "_view_name": "StyleView",
            "description_width": ""
          }
        }
      }
    }
  },
  "cells": [
    {
      "cell_type": "markdown",
      "metadata": {
        "id": "view-in-github",
        "colab_type": "text"
      },
      "source": [
        "<a href=\"https://colab.research.google.com/github/Ganeshs170220/AI-MODELS/blob/main/SUMMARIZATION_FROM_URL.ipynb\" target=\"_parent\"><img src=\"https://colab.research.google.com/assets/colab-badge.svg\" alt=\"Open In Colab\"/></a>"
      ]
    },
    {
      "cell_type": "markdown",
      "source": [
        "#This model is created using hugging face transformers and beautifulsoup"
      ],
      "metadata": {
        "id": "vPskwmJIDWLL"
      }
    },
    {
      "cell_type": "markdown",
      "source": [
        "#installing required modules"
      ],
      "metadata": {
        "id": "DuYXsi_CDkJp"
      }
    },
    {
      "cell_type": "code",
      "source": [
        "!pip install transformers"
      ],
      "metadata": {
        "colab": {
          "base_uri": "https://localhost:8080/"
        },
        "id": "Vxj9FxoHAVEm",
        "outputId": "f4b84836-7cff-464a-ae91-3fe7c8fcb6a9"
      },
      "execution_count": 2,
      "outputs": [
        {
          "output_type": "stream",
          "name": "stdout",
          "text": [
            "Collecting transformers\n",
            "  Downloading transformers-4.30.2-py3-none-any.whl (7.2 MB)\n",
            "\u001b[2K     \u001b[90m━━━━━━━━━━━━━━━━━━━━━━━━━━━━━━━━━━━━━━━━\u001b[0m \u001b[32m7.2/7.2 MB\u001b[0m \u001b[31m55.8 MB/s\u001b[0m eta \u001b[36m0:00:00\u001b[0m\n",
            "\u001b[?25hRequirement already satisfied: filelock in /usr/local/lib/python3.10/dist-packages (from transformers) (3.12.2)\n",
            "Collecting huggingface-hub<1.0,>=0.14.1 (from transformers)\n",
            "  Downloading huggingface_hub-0.16.3-py3-none-any.whl (268 kB)\n",
            "\u001b[2K     \u001b[90m━━━━━━━━━━━━━━━━━━━━━━━━━━━━━━━━━━━━━━\u001b[0m \u001b[32m268.8/268.8 kB\u001b[0m \u001b[31m24.2 MB/s\u001b[0m eta \u001b[36m0:00:00\u001b[0m\n",
            "\u001b[?25hRequirement already satisfied: numpy>=1.17 in /usr/local/lib/python3.10/dist-packages (from transformers) (1.22.4)\n",
            "Requirement already satisfied: packaging>=20.0 in /usr/local/lib/python3.10/dist-packages (from transformers) (23.1)\n",
            "Requirement already satisfied: pyyaml>=5.1 in /usr/local/lib/python3.10/dist-packages (from transformers) (6.0)\n",
            "Requirement already satisfied: regex!=2019.12.17 in /usr/local/lib/python3.10/dist-packages (from transformers) (2022.10.31)\n",
            "Requirement already satisfied: requests in /usr/local/lib/python3.10/dist-packages (from transformers) (2.27.1)\n",
            "Collecting tokenizers!=0.11.3,<0.14,>=0.11.1 (from transformers)\n",
            "  Downloading tokenizers-0.13.3-cp310-cp310-manylinux_2_17_x86_64.manylinux2014_x86_64.whl (7.8 MB)\n",
            "\u001b[2K     \u001b[90m━━━━━━━━━━━━━━━━━━━━━━━━━━━━━━━━━━━━━━━━\u001b[0m \u001b[32m7.8/7.8 MB\u001b[0m \u001b[31m72.5 MB/s\u001b[0m eta \u001b[36m0:00:00\u001b[0m\n",
            "\u001b[?25hCollecting safetensors>=0.3.1 (from transformers)\n",
            "  Downloading safetensors-0.3.1-cp310-cp310-manylinux_2_17_x86_64.manylinux2014_x86_64.whl (1.3 MB)\n",
            "\u001b[2K     \u001b[90m━━━━━━━━━━━━━━━━━━━━━━━━━━━━━━━━━━━━━━━━\u001b[0m \u001b[32m1.3/1.3 MB\u001b[0m \u001b[31m72.2 MB/s\u001b[0m eta \u001b[36m0:00:00\u001b[0m\n",
            "\u001b[?25hRequirement already satisfied: tqdm>=4.27 in /usr/local/lib/python3.10/dist-packages (from transformers) (4.65.0)\n",
            "Requirement already satisfied: fsspec in /usr/local/lib/python3.10/dist-packages (from huggingface-hub<1.0,>=0.14.1->transformers) (2023.6.0)\n",
            "Requirement already satisfied: typing-extensions>=3.7.4.3 in /usr/local/lib/python3.10/dist-packages (from huggingface-hub<1.0,>=0.14.1->transformers) (4.6.3)\n",
            "Requirement already satisfied: urllib3<1.27,>=1.21.1 in /usr/local/lib/python3.10/dist-packages (from requests->transformers) (1.26.16)\n",
            "Requirement already satisfied: certifi>=2017.4.17 in /usr/local/lib/python3.10/dist-packages (from requests->transformers) (2023.5.7)\n",
            "Requirement already satisfied: charset-normalizer~=2.0.0 in /usr/local/lib/python3.10/dist-packages (from requests->transformers) (2.0.12)\n",
            "Requirement already satisfied: idna<4,>=2.5 in /usr/local/lib/python3.10/dist-packages (from requests->transformers) (3.4)\n",
            "Installing collected packages: tokenizers, safetensors, huggingface-hub, transformers\n",
            "Successfully installed huggingface-hub-0.16.3 safetensors-0.3.1 tokenizers-0.13.3 transformers-4.30.2\n"
          ]
        }
      ]
    },
    {
      "cell_type": "code",
      "source": [
        "!pip install bs4"
      ],
      "metadata": {
        "colab": {
          "base_uri": "https://localhost:8080/"
        },
        "id": "fhPdYdBmAdYm",
        "outputId": "bfb8d66f-a766-4a3b-8bef-046c4b9a3f1e"
      },
      "execution_count": 3,
      "outputs": [
        {
          "output_type": "stream",
          "name": "stdout",
          "text": [
            "Collecting bs4\n",
            "  Downloading bs4-0.0.1.tar.gz (1.1 kB)\n",
            "  Preparing metadata (setup.py) ... \u001b[?25l\u001b[?25hdone\n",
            "Requirement already satisfied: beautifulsoup4 in /usr/local/lib/python3.10/dist-packages (from bs4) (4.11.2)\n",
            "Requirement already satisfied: soupsieve>1.2 in /usr/local/lib/python3.10/dist-packages (from beautifulsoup4->bs4) (2.4.1)\n",
            "Building wheels for collected packages: bs4\n",
            "  Building wheel for bs4 (setup.py) ... \u001b[?25l\u001b[?25hdone\n",
            "  Created wheel for bs4: filename=bs4-0.0.1-py3-none-any.whl size=1257 sha256=b4f77e5bb57e0648318fcf53cfa7fd36757e77b2f53c74b222c18fa47ba5996d\n",
            "  Stored in directory: /root/.cache/pip/wheels/25/42/45/b773edc52acb16cd2db4cf1a0b47117e2f69bb4eb300ed0e70\n",
            "Successfully built bs4\n",
            "Installing collected packages: bs4\n",
            "Successfully installed bs4-0.0.1\n"
          ]
        }
      ]
    },
    {
      "cell_type": "markdown",
      "source": [
        "#import the modules"
      ],
      "metadata": {
        "id": "527HS5fwDona"
      }
    },
    {
      "cell_type": "code",
      "execution_count": 4,
      "metadata": {
        "id": "tSLKLoV36iA4"
      },
      "outputs": [],
      "source": [
        "from transformers import pipeline\n",
        "import requests\n",
        "from bs4 import BeautifulSoup"
      ]
    },
    {
      "cell_type": "code",
      "source": [
        "summarizer = pipeline('summarization')"
      ],
      "metadata": {
        "colab": {
          "base_uri": "https://localhost:8080/",
          "height": 212,
          "referenced_widgets": [
            "59e529c98e7a48f586040e79e29e074d",
            "5e13f24147f6483abec0c1b245713575",
            "6d80a6ddbde5494c977ea16e6de6ee3b",
            "7888e5640383481887c2f96cd281b073",
            "10b2cae3209e4ed59bd66311040002da",
            "ffe1c18806c54a6490db304d7cc5ce2f",
            "994022b894cd494e8562d8305029424b",
            "825f72532a8a4490b89420f1f2021f5f",
            "3785ca4378d5418ab52dd301100c2bd2",
            "04e4494a0dfc4923ae95c0de6a519758",
            "765d255e0e3f4e76823e41125ff0cdd1",
            "4622216ee7494c0cac618ad0b147bcfe",
            "d7bf9a5f0f6f4322b87c98350f621071",
            "ffc315ec7fd9458d8a0144b5d703ce71",
            "0b62c438682d42d694146825040d48e4",
            "4750b27cbf0346bba0e05864bf8a151a",
            "1b77b14b7e17408f8698bab9fef0d278",
            "30799030b8dd4b2bb8c22c3d1422f248",
            "d5a36097659b4602943749267078f8a3",
            "253322b9cb384b109bfdf623adb82a28",
            "854c096d314e467b824e12c6b055628a",
            "f7552f02ad4146b59f3a020162f4162f",
            "7066126339894ef4bd34c815bfe77cce",
            "fddc6e47532e473e8cb1e4636d312e8c",
            "8a47625756434e04922b825172313c8f",
            "3119fd331f534b619a81c277154964c0",
            "5592c7eb41404c1aafbb5388d7add444",
            "acd015ffeec9410fba77db4b0132caa8",
            "061d722868d9402086e5662ecb733ff0",
            "5400d2eec3884fa1abd08744de2ae4da",
            "e57d52f5cc39460fa8fe3330b16a9fed",
            "5369d1e03c3747d5a44381805b36962d",
            "4043e1a33b3b43649a7efdf221d37961",
            "37b3c1b383cf4f5fb11d7d714c7b7d59",
            "72fde64753034ebfbc086a34678d0e11",
            "039beac4b50a4e26b8b2dd59855519db",
            "7a028461d4874f599d24ab13369c8e97",
            "79f8eb91298346529c28a400859f0801",
            "6596a84f9dd6434b97c9d328377614d7",
            "a53a20ad07774dfd9cdb83e6b38120e1",
            "5edc8fd7f7d54f63a8a7a1d98c812984",
            "328d99e8c1384b89970b444a1c8f8fa8",
            "e0b841812444470fa155b17e907319ba",
            "5337a21ef57141029ab4fcd093c5e691",
            "eec01c9d08c144ed844a37d0833ffe5a",
            "7ed00dd6ac474a8d80f6d4e9fb3308c1",
            "00cdbb5f7d494fe19b27c836666dacbd",
            "9a62b2ce1e0847f88d1e987fced6b2d3",
            "1f25b08abc6a4f0baf40715f669cd1da",
            "ec300b730ac4446fb32b396889c9f4fa",
            "8be45046893246daaad8dfc7d6ee68c8",
            "42faeae0c82349318c5de4ff0fe86a13",
            "861383ab624549faa28ed602a6254e98",
            "6f4b695a772f499792a69f48994f3c42",
            "708d04b421dd491fbcbb3a86a48ab048"
          ]
        },
        "id": "GNpwbrrZ6spy",
        "outputId": "ea13a11b-bd6d-444c-a769-882e18d559a3"
      },
      "execution_count": 5,
      "outputs": [
        {
          "output_type": "stream",
          "name": "stderr",
          "text": [
            "No model was supplied, defaulted to sshleifer/distilbart-cnn-12-6 and revision a4f8f3e (https://huggingface.co/sshleifer/distilbart-cnn-12-6).\n",
            "Using a pipeline without specifying a model name and revision in production is not recommended.\n"
          ]
        },
        {
          "output_type": "display_data",
          "data": {
            "text/plain": [
              "Downloading (…)lve/main/config.json:   0%|          | 0.00/1.80k [00:00<?, ?B/s]"
            ],
            "application/vnd.jupyter.widget-view+json": {
              "version_major": 2,
              "version_minor": 0,
              "model_id": "59e529c98e7a48f586040e79e29e074d"
            }
          },
          "metadata": {}
        },
        {
          "output_type": "display_data",
          "data": {
            "text/plain": [
              "Downloading pytorch_model.bin:   0%|          | 0.00/1.22G [00:00<?, ?B/s]"
            ],
            "application/vnd.jupyter.widget-view+json": {
              "version_major": 2,
              "version_minor": 0,
              "model_id": "4622216ee7494c0cac618ad0b147bcfe"
            }
          },
          "metadata": {}
        },
        {
          "output_type": "display_data",
          "data": {
            "text/plain": [
              "Downloading (…)okenizer_config.json:   0%|          | 0.00/26.0 [00:00<?, ?B/s]"
            ],
            "application/vnd.jupyter.widget-view+json": {
              "version_major": 2,
              "version_minor": 0,
              "model_id": "7066126339894ef4bd34c815bfe77cce"
            }
          },
          "metadata": {}
        },
        {
          "output_type": "display_data",
          "data": {
            "text/plain": [
              "Downloading (…)olve/main/vocab.json:   0%|          | 0.00/899k [00:00<?, ?B/s]"
            ],
            "application/vnd.jupyter.widget-view+json": {
              "version_major": 2,
              "version_minor": 0,
              "model_id": "37b3c1b383cf4f5fb11d7d714c7b7d59"
            }
          },
          "metadata": {}
        },
        {
          "output_type": "display_data",
          "data": {
            "text/plain": [
              "Downloading (…)olve/main/merges.txt:   0%|          | 0.00/456k [00:00<?, ?B/s]"
            ],
            "application/vnd.jupyter.widget-view+json": {
              "version_major": 2,
              "version_minor": 0,
              "model_id": "eec01c9d08c144ed844a37d0833ffe5a"
            }
          },
          "metadata": {}
        }
      ]
    },
    {
      "cell_type": "markdown",
      "source": [
        "#read the url from google"
      ],
      "metadata": {
        "id": "U4pZyuTeDsnt"
      }
    },
    {
      "cell_type": "code",
      "source": [
        "URL = (\"https://en.wikipedia.org/wiki/Narendra_Modi\")\n",
        "r = requests.get(URL)"
      ],
      "metadata": {
        "id": "m9neVzzo6u-q"
      },
      "execution_count": 6,
      "outputs": []
    },
    {
      "cell_type": "markdown",
      "source": [
        "#parsing the data from that url"
      ],
      "metadata": {
        "id": "LLCVRb0JD1OL"
      }
    },
    {
      "cell_type": "code",
      "source": [
        "soup = BeautifulSoup(r.text,'html.parser')\n",
        "results = soup.find_all(['h1','p'])\n",
        "text = [result.text for result in results]\n",
        "ARTICLE = ' '.join(text)"
      ],
      "metadata": {
        "id": "P51_jKei6win"
      },
      "execution_count": 7,
      "outputs": []
    },
    {
      "cell_type": "markdown",
      "source": [
        "#printing the parsed data from the URL"
      ],
      "metadata": {
        "id": "OQnFb21-D5BO"
      }
    },
    {
      "cell_type": "code",
      "source": [
        "ARTICLE"
      ],
      "metadata": {
        "colab": {
          "base_uri": "https://localhost:8080/",
          "height": 105
        },
        "id": "IS8SHAx-6yXG",
        "outputId": "653dc596-80a9-47ab-bc22-bff9575404d5"
      },
      "execution_count": 8,
      "outputs": [
        {
          "output_type": "execute_result",
          "data": {
            "text/plain": [
              "'Narendra Modi \\n Premiership\\n Budgets\\n \\n Campaigns\\n Missions\\n Establishments and foundations\\n Events and observances\\n Military and rescue operations\\n Treaties and accords\\n \\n Establishments and foundations\\n Events and observances\\n Military and rescue operations\\n Treaties and accords\\n Controversies\\n \\n Narendra Damodardas Modi (Gujarati:\\xa0[ˈnəɾendɾə dɑmodəɾˈdɑs ˈmodiː] (listen); born 17 September 1950)[b] is an Indian politician who has served as the 14th Prime Minister of India since May 2014. Modi was the Chief Minister of Gujarat from 2001 to 2014 and is the Member of Parliament (MP) for Varanasi. He is a member of the Bharatiya Janata Party (BJP) and of the Rashtriya Swayamsevak Sangh (RSS), a right-wing Hindu nationalist paramilitary volunteer organisation. He is the longest-serving prime minister from outside the Indian National Congress.\\n Modi was born and raised in Vadnagar in northeastern Gujarat, where he completed his secondary education. He was introduced to the RSS at age eight. His account of helping his father sell tea at the Vadnagar railway station has not been reliably corroborated. At age 18, he was married to Jashodaben Modi, whom he abandoned soon after, only publicly acknowledging her four decades later when legally required to do so. Modi became a full-time worker for the RSS in Gujarat in 1971. After the state of emergency was declared by Prime Minister Indira Gandhi in 1975, he went into hiding. The RSS assigned him to the BJP in 1985 and he held several positions within the party hierarchy until 2001, rising to the rank of general secretary.[c]\\n In 2001, Modi was appointed Chief Minister of Gujarat due to Keshubhai Patel\\'s failing health and poor public image following the earthquake in Bhuj that year, and Modi was elected to the legislative assembly soon after. His administration is considered complicit in the 2002 Gujarat riots,[d] and has been criticised for its management of the crisis. A little over 1,000 people were killed, according to official records, three-quarters of whom were Muslim; independent sources estimated 2,000 deaths, mostly Muslim.[10] A Special Investigation Team appointed by the Supreme Court of India found no evidence to initiate prosecution proceedings against him.[e] While his policies as chief minister, which were credited for encouraging economic growth, were praised, Modi\\'s administration was criticised for failing to significantly improve health, poverty and education indices in the state.[f]\\n Modi led the BJP in the 2014 Indian general election, in which the party gained a majority in the lower house of the Indian parliament the Lok Sabha; it was the first time for any single party since 1984. His administration has tried to raise direct foreign investment in the Indian economy, and reduced spending on healthcare, education, and social-welfare programmes. He centralised power by abolishing the Planning Commission and replacing it with the NITI Aayog. Modi began a high-profile sanitation campaign, controversially initiated the 2016 demonetisation of high-denomination banknotes and introduced the Goods and Services Tax, and weakened or abolished environmental and labour laws.\\n Modi\\'s administration launched the 2019 Balakot airstrike against Pakistan but the strike failed and the Modi administration took 8 months to admit the deaths of 6 Indian military personnel caused by a friendly fire.[13][14][15][16] Modi\\'s party comfortably won the 2019 general election.[17] In its second term, his administration revoked the special status of Jammu and Kashmir, an Indian-administred portion of the disputed Kashmir region,[18][19] and introduced the Citizenship Amendment Act, prompting widespread protests, and spurring the 2020 Delhi riots in which Muslims were brutalized and killed by Hindu mobs,[20][21][22] sometimes with the complicity of police forces controlled by the Modi administration.[23][24] Three controversial farm laws, led to protests by farmers, eventually causing their formal repeal. Modi oversaw India\\'s response to the COVID-19 pandemic, during which 4.7 million Indians died, according to the World Health Organization\\'s estimates.[25][26] In 2023, Modi received criticism over his lack of reaction towards Adani scandal and Manipur violence.[27][28]\\n Under Modi\\'s tenure, India has experienced democratic backsliding, or the weakening of democratic institutions, individual rights, and freedom of expression.[29][30][g] As prime minister, he has received consistently high approval ratings.[36][37][38] Modi has been described as engineering a political realignment towards right-wing politics. He remains a controversial figure domestically and internationally, over his Hindu nationalist beliefs and handling of the 2002 Gujarat riots, which have been cited as evidence of a majoritarian and exclusionary social agenda.[h]\\n Narendra Damodardas Modi was born on 17 September 1950 to a Gujarati Hindu family of grocers in Vadnagar, Mehsana district, Bombay State (present-day Gujarat). He was the third of six children born to Damodardas Mulchand Modi (c.\\u20091915–1989) and Hiraben Modi (1923–2022).[45][b][46] His family belonged to the Modh-Ghanchi-Teli (oil-presser) community,[47][48][49] which the Indian government has categorised as an Other Backward Class.[49][50]\\n According to Modi, as a child, he had to work in his father\\'s tea shop on the platform of Vadnagar railway station,[51] but the evidence of his neighbours does not entirely corroborate this statement.[52][53] Modi completed his higher secondary education in Vadnagar in 1967; his teachers described him as an average student and a keen, gifted debater with an interest in theatre.[54] He preferred playing larger-than-life characters in theatrical productions, which has influenced his political image.[55][56]\\n When Modi was eight years old, he was introduced to the Rashtriya Swayamsevak Sangh (RSS) and began attending its local shakhas (training sessions). There, he met Lakshmanrao Inamdar, who inducted Modi as a balswayamsevak (junior cadet) in the RSS and became his political mentor.[57] While Modi was training with the RSS, he also met Vasant Gajendragadkar and Nathalal Jaghda, Bharatiya Jana Sangh leaders who in 1980 helped found the BJP\\'s Gujarat unit.[58]\\n In a custom traditional to Narendra Modi\\'s caste, his family arranged a betrothal to Jashodaben Chimanlal Modi, leading to their marriage when she was 17 and he was 18.[59][60] Soon afterwards, he abandoned his wife,[61] and left home. The couple never divorced but the marriage was not in his public pronouncements for many decades.[62] In April 2014, shortly before the national election in which he gained power, Modi publicly affirmed he was married and that his spouse was Jashodaben.[63] The marriage was sexless and Modi kept it secret because he would not have been able to become a pracharak in the puritanical RSS.[64][65]\\n Modi spent the following two years travelling across northern and north-eastern India.[66] In interviews, he has described visiting Hindu ashrams founded by Swami Vivekananda: the Belur Math near Kolkata, the Advaita Ashrama in Almora and the Ramakrishna Mission in Rajkot. His stays at each ashram were brief because he lacked the required college education.[67] Vivekananda has had a large influence in Modi\\'s life.[68]\\n In mid 1968, Modi reached Belur Math but was turned away, after which he visited Calcutta, West Bengal and Assam, stopping in Siliguri and Guwahati. He then went to the Ramakrishna Ashram in Almora, where he was again rejected, before returning to Gujarat via Delhi and Rajasthan in 1968 to 1969. In either late 1969 or early 1970, he returned to Vadnagar for a brief visit before leaving again for Ahmedabad,[69][70] where he lived with his uncle and worked in his uncle\\'s canteen at Gujarat State Road Transport Corporation.[71]\\n In Ahmedabad, Modi renewed his acquaintance with Inamdar, who was based at the Hedgewar Bhavan (RSS headquarters) in the city.[72][73][74] Modi\\'s first-known political activity as an adult was in 1971 when he joined a Jana Sangh Satyagraha in Delhi led by Atal Bihari Vajpayee to enlist to fight in the Bangladesh Liberation War.[75][76] The Indira Gandhi-led central government prohibited open support for the Mukti Bahini; according to Modi, he was briefly held in Tihar Jail.[77][78][79] After the Indo-Pakistani War of 1971, Modi left his uncle\\'s employ and became a full-time pracharak (campaigner) for the RSS,[80] working under Inamdar.[81] Shortly before the war, Modi took part in a non-violent protest in New Delhi against the Indian government, for which he was arrested; because of this arrest, Inamdar decided to mentor Modi.[81]  According to Modi, he was part of a Satyagraha that led to a political war.[78][i]\\n In 1978, Modi received a Bachelor of Arts degree in political science from the School of Open Learning[84] at the University of Delhi.[64] graduating with a third class.[85] In 1983, he received a Master of Arts degree in political science from Gujarat University, graduating with a first class[86][87] as an external distance learning student.[88] There is a controversy surrounding his educational qualification.[89][90][j]\\n In June 1975, Prime Minister Indira Gandhi declared a state of emergency in India that lasted until 1977. During this period, known as \"the Emergency\", many of her political opponents were jailed and opposition groups were banned.[94][95] Modi was appointed general secretary of the \"Gujarat Lok Sangharsh Samiti\", an RSS committee co-ordinating opposition to the Emergency in Gujarat. Shortly afterwards, the RSS was banned.[96] Modi was forced to go underground in Gujarat and frequently travelled in disguise to avoid arrest, once dressing as a monk and once as a Sikh.[97] He became involved in the printing of pamphlets opposing the government, sending them to Delhi and organising demonstrations.[98][99] He was also involved with creating a network of safe houses for individuals who were wanted by the government, and in raising funds for political refugees and activists.[100] During this period, Modi wrote a Gujarati-language book titled Sangharsh Ma Gujarat (In the Struggles of Gujarat), which describes events during the Emergency.[101][102] While in this role, Modi met trade unionist and socialist activist George Fernandes and several other national political figures.[103]\\n Modi became an RSS sambhag pracharak (regional organiser) in 1978, overseeing activities in Surat and Vadodara, and in 1979, he went to work for the RSS in Delhi, where he researched and wrote the RSS\\'s history of the Emergency. Shortly after, he returned to Gujarat and in 1985, the RSS assigned him to the BJP. In 1987, Modi helped organise the BJP\\'s campaign in the Ahmedabad municipal election, which the party won comfortably; according to biographers, Modi\\'s planning was responsible for the win.[104][105] After L. K. Advani became president of the BJP in 1986, the RSS decided to place its members in important positions within the party; Modi\\'s work during the Ahmedabad election led to his selection for this role. Modi was elected organising secretary of the BJP\\'s Gujarat unit later in 1987.[106]\\n Modi rose within the party and was named a member of its National Election Committee in 1990, helping organise Advani\\'s Ram Rath Yatra in 1990 and Murli Manohar Joshi\\'s 1991–1992 Ekta Yatra (Journey for Unity).[54][107][108] Modi took a brief break from politics in 1992 to establish a school in Ahmedabad, and due to friction with Shankersinh Vaghela, a BJP MP from Gujarat.[108] Modi returned to electoral politics in 1994, partly at the insistence of Advani; as party secretary, Modi\\'s electoral strategy was considered central to the BJP victory in the 1995 state assembly election.[109][110] In November of that year, Modi was appointed BJP national secretary and transferred to New Delhi, where he assumed responsibility for party activities in Haryana and Himachal Pradesh.[111] The following year, Shankersinh Vaghela, a prominent BJP leader from Gujarat, defected to the Indian National Congress (Congress) after losing his parliamentary seat in the Lok Sabha election.[54] Modi, who was on the selection committee for the 1998 Gujarat Legislative Assembly election, favoured supporters of BJP leader Keshubhai Patel over those supporting Vaghela to end factional division in the party. His strategy was credited as central to the BJP winning an overall majority in the 1998 election,[112] and Modi was promoted to BJP general secretary (organisation) in May of that year.[113]\\n In 2001, Keshubhai Patel\\'s health was failing and the BJP lost a few state assembly seats in by-elections. Allegations of abuse of power, corruption and poor administration were made, and Patel\\'s standing had been damaged by his administration\\'s handling of the earthquake in Bhuj in 2001.[112][114][115] The BJP national leadership sought a new candidate for the chief ministership, and Modi, who had expressed misgivings about Patel\\'s administration, was chosen as a replacement.[54] Advani did not want to ostracise Patel and was concerned about Modi\\'s lack of experience in government. Modi declined an offer to become Patel\\'s deputy chief minister, telling Advani and Atal Bihari Vajpayee he was \"going to be fully responsible for Gujarat or not at all\". On 3 October 2001, Modi replaced Patel as Chief Minister of Gujarat with the responsibility of preparing the BJP for the upcoming December 2002 election.[116] On 7 October, Modi was sworn in[117] and he entered the Gujarat state legislature on 24 February 2002 after winning a by-election in Rajkot II constituency, defeating Ashwin Mehta of the INC.[118]\\n On 27 February 2002, a train with several hundred passengers burned near Godhra, killing approximately 60 people.[k][121] The train carried a large number of Hindu pilgrims who were returning from Ayodhya after a religious ceremony at the site of the demolished Babri Masjid.[122][123] In a public statement, Modi said local Muslims were responsible for the incident.[7][122][124] The next day, the Vishwa Hindu Parishad called for a bandh (general strike) across the state.[125][126] Riots began during the bandh and anti-Muslim violence spread through Gujarat.[122][125][126] The government\\'s decision to move the bodies of the train victims from Godhra to Ahmedabad further inflamed the violence.[122][127] The state government later stated 790 Muslims and 254 Hindus were killed during the riots;[123] independent sources put the death toll at over 2,000,[122][121][128] the vast majority of them Muslims.[121] Approximately 150,000 people were driven to refugee camps.[129] Numerous women and children were among the victims; the violence included mass rapes and mutilation of women.[6][130]\\n Scholars consider the Government of Gujarat to have been complicit in the riots,[7][131] and it has received much criticism for its handling of the situation;[132] some scholars explicitly blame Modi.[6][133][134] The Modi government imposed a curfew in 26 major cities, issued shoot-at-sight orders and called for the army to patrol the streets; these measured failed to prevent the violence from escalating.[125][126] The president of the state unit of the BJP expressed support for the bandh despite such actions being illegal at the time.[7] State officials later prevented riot victims from leaving the refugee camps, which were often unable to meet the needs of those living there.[135] Muslim victims of the riots were subjected to further discrimination when the state government announced their compensation would be half that offered to Hindu victims; this decision was later reversed after the issue was taken to court.[136] During the riots, police officers often did not intervene in situations where they were able.[6][124][137] Several scholars have described the violence as a pogrom and others have called it an example of state terrorism.[138][139][140] According to Martha Nussbaum; \"There is by now a broad consensus that the Gujarat violence was a form of ethnic cleansing, that in many ways it was premeditated, and that it was carried out with the complicity of the state government and officers of the law\".[6]\\n Modi\\'s personal involvement in the 2002 events has continued to be debated. During the riots, he said; \"What is happening is a chain of action and reaction\".[6] Later in 2002, Modi said the way in which he had handled the media was his only regret regarding the episode.[141] In March 2008, the Supreme Court of India reopened several cases related to the riots, including that of the Gulbarg Society massacre, and established a Special Investigation Team (SIT) to look into the issue.[132][142][143] In response to a petition from Zakia Jafri, the widow of Ehsan Jafri, who was killed in the Gulbarg Society massacre, in April 2009, the court also asked the SIT to investigate Modi\\'s complicity in the killings.[142] The SIT questioned Modi in March 2010; in May, it presented to the court a report finding no evidence against him.[142][144] In July 2011, the court-appointed amicus curiae Raju Ramachandran submitted his final report to the court. Contrary to the SIT\\'s position, Ramachandran said Modi could be prosecuted based on the available evidence.[145][146] The Supreme Court sent the matter to the magistrate\\'s court. The SIT examined Ramachandran\\'s report, and in March 2012 submitted its final report, asking for the case to be closed. Zakia Jafri filed a protest petition in response. In December 2013, the magistrate\\'s court rejected the protest petition, accepting the SIT\\'s finding there was no evidence against Modi.[147] In 2022, the Supreme Court dismissed a petition by Zakia Jafri in which she challenged the clean chit given to Modi in the riots by the SIT, and upheld previous rulings that no evidence against him was found.[148][149][150]\\n Following the violence, calls for Modi to resign as chief minister were made from politicians within and outside the state, including leaders of Dravida Munnetra Kazhagam and the Telugu Desam Party—partners in the BJP-led National Democratic Alliance coalition—and opposition parties stalled Parliament over the issue.[151] Modi submitted his resignation at the April 2002 BJP national executive meeting in Goa but it was not accepted.[152] Despite opposition from the election commissioner, who said a number of voters were still displaced, Modi succeeded in advancing the election to December 2002.[153] In the election, the BJP won 127 seats in the 182-member assembly.[154] Modi made significant use of anti-Muslim rhetoric during his campaign,[155][156][157][158] and the BJP profited from religious polarisation among voters.[153] Modi framed the criticism of his government for human rights violations as an attack upon Gujarati pride,[5][155] a strategy that led to the BJP winning 127 of the 182[154]seats—a two-thirds majority—in the state assembly.[5][155] He won Maninagar constituency, defeating Congress candidate Yatin Oza.[159] On 22 December 2002, Modi was sworn in for a second term.[160]\\n During Modi\\'s second term, the government\\'s rhetoric shifted from Hindutva to Gujarat\\'s economic development.[114][5][155] He curtailed the influence of Sangh Parivar organisations such as Bharatiya Kisan Sangh (BKS) and Vishva Hindu Parishad (VHP).[161] When the BKS staged a farmers\\' demonstration, Modi ordered the BKS\\'s eviction from state-provided houses, and his decision to demolish 200 illegal temples in Gandhinagar deepened the rift with the VHP.[161][162] Modi retained connections with some Hindu nationalists. He wrote a foreword to a 2014 textbook by Dinanath Batra, which made the unscientific claim that ancient India possessed technologies including test-tube babies.[163][164]\\n Modi\\'s relationship with Muslims continued to attract criticism. Prime Minister Atal Bihari Vajpayee distanced himself, reaching out to North Indian Muslims before the 2004 Indian general election, following which, Vajpayee called the violence in Gujarat a reason for the BJP\\'s electoral defeat and said it had been a mistake to leave Modi in office after the riots.[165][166] Western nations also raised questions about Modi\\'s relationship with Muslims; the US State Department barred him from entering the United States in accordance with the recommendations of that country\\'s Commission on International Religious Freedom,[167][168] the only person to be denied a US visa under this law.[167] The UK and the European Union (EU) refused to admit Modi because of what they saw as his role in the riots. As Modi rose to prominence in India, the UK[169] and the EU[170] lifted their bans in October 2012 and March 2013, respectively, and after his election as prime minister in 2014, the US lifted its ban and invited him to Washington, D.C.[171][172]\\n During the run-up to the 2007 Gujarat Legislative Assembly election and the 2009 Indian general election, the BJP intensified its rhetoric on terrorism.[173] Modi criticised Prime Minister Manmohan Singh \"for his reluctance to revive anti-terror legislation\" such as the 2002 Prevention of Terrorism Act.[174] In 2007, Modi wrote Karmayog, a 101-page booklet discussing manual scavenging. In it, he said scavenging is a \"spiritual experience\" for Valmiks, a sub-caste of Dalits.[175][176] The book was not circulated at that time because of the election code of conduct.[177] After the November 2008 Mumbai attacks, the Gujarat government authorized the deployment of 30 high-speed boats for coastal surveillance.[178] In July 2007, Modi completed 2,063 consecutive days as chief minister of Gujarat, making him the longest-serving holder of that post.[179] The BJP won 122 of 182 state-assembly seats in that year\\'s election.[180]\\n Despite the BJP\\'s shift away from explicit Hindutva, Modi\\'s campaigns in 2007 and 2012 Gujarat Legislative Assembly elections contained elements of Hindu nationalism. He attended only Hindu religious ceremonies and had prominent associations with Hindu religious leaders. During his 2012 campaign, Modi twice refused to wear articles of clothing gifted by Muslim leaders.[155] He did, however, maintain relations with Dawoodi Bohra.[155] Modi\\'s 2012 campaign included references to issues known to cause religious polarisation, including Afzal Guru and the death of Sohrabuddin Sheikh. The BJP did not nominate any Muslim candidates for the 2012 assembly election.[155] During the 2012 campaign, Modi attempted to identify himself with the state of Gujarat, a strategy similar to that used by Indira Gandhi during the Emergency, and projected himself as protecting Gujarat against persecution by the rest of India.[155] While campaigning for the 2012 Gujarat Legislative Assembly election, Modi made extensive use of holograms and other technologies, allowing him to reach a large number of people,[153] something he repeated in the 2014 general election. Modi won the constituency of Maninagar, defeating Shweta Bhatt of the INC.[181] The BJP won 115 of the 182 seats, continuing its majority during his tenure.[182] After his election as Prime Minister of India, Modi resigned as the Gujarat chief minister and as MLA for Maninagar. Anandiben Patel succeeded Modi as chief minister.[183]\\n As chief minister, Modi favoured privatisation and small government, which was at odds with the philosophy of the RSS, which is usually described as anti-privatisation and anti-globalisation. Modi\\'s policies during his second term have been credited with reducing corruption in Gujarat. He established financial and technology parks in the state and during the 2007 Vibrant Gujarat summit, real-estate investment deals worth ₹6.6 trillion (equivalent to ₹17\\xa0trillion or US$210\\xa0billion in 2020) were signed.[114]\\n The governments led by Patel and Modi supported NGOs and communities in the creation of groundwater-conservation projects. By December 2008, 500,000 structures had been built, of which 113,738 were check dams, which helped recharge the aquifers beneath them.[184] Sixty of the 112 tehsils which had depleted the water table in 2004 had regained their normal groundwater levels by 2010.[185] As a result, the state\\'s production of genetically modified cotton increased to become the largest in India.[184] The boom in cotton production and its semi-arid land use[186] led to Gujarat\\'s agricultural sector growing at an average rate of 9.6 percent from 2001 to 2007.[187] Public irrigation measures in central and southern Gujarat, such as the Sardar Sarovar Dam, were less successful. The Sardar Sarovar project irrigated only 4–6% of the area intended.[184] In 2008, Modi offered land in Gujarat to Tata Motors to set up a plant manufacturing the Nano car after popular agitation had forced the company to move out of West Bengal. Following Tata, several other companies relocated to Gujarat.[188]\\n The Modi government finished the process of taking electricity to every village in Gujarat its predecessor had almost completed.[189] Modi significantly changed the state\\'s system of power distribution, greatly impacting farmers. Gujarat expanded the Jyotigram Yojana scheme, in which agricultural electricity was separated from other rural electricity; the agricultural electricity was rationed to fit scheduled irrigation demands, reducing its cost. Early protests by farmers ended when those who benefitted found their electricity supply had stabilised[184] but, according to an assessment study, corporations and large farmers benefited from the policy at the expense of small farmers and labourers.[190]\\n A contentious debate surrounds the assessment of Gujarat\\'s economic development during Modi\\'s tenure as chief minister.[191] The state\\'s Gross Domestic Product (GDP) growth rate averaged 10% during his tenure, a rate similar to those of other highly industrialised states, and above that of India as a whole.[188] Gujarat also had a high rate of economic growth in the 1990s, before Modi took office; some scholars have stated growth did not much accelerate during his tenure.[192] Under Modi, Gujarat topped the World Bank\\'s \"ease of doing business\" rankings among Indian states for two consecutive years.[193] In 2013, a report measuring governance, growth, citizens\\' rights, and labour and business regulation among the country\\'s 20 largest states, ranked Gujarat first among Indian states for \"economic freedom\".[188][194] In the later years of Modi\\'s government, Gujarat\\'s economic growth was frequently used as an argument to counter allegations of communalism.[5] Tax breaks and land for businesses were easier to obtain in Gujarat than in other states. Modi\\'s policies of making Gujarat attractive for investment included the creation of Special Economic Zones in which labour laws were greatly weakened.[155]\\n Despite its growth rate, Gujarat had a relatively poor record on human development, poverty relief, nutrition and education during Modi\\'s tenure. In 2013, Gujarat ranked 13th in India with respect to rates of poverty, and 21st in education. Nearly 45 percent of children under five were underweight and 23 percent were undernourished, putting the state in the \"alarming\" category on the India State Hunger Index.[195][196] A study by UNICEF and the Indian government found Gujarat under Modi had a poor record in immunisation of children.[197]\\n From 2001 to 2011, Gujarat did not change its position relative to the rest of the country with respect to poverty and female literacy, remaining near the median of the 29 Indian states.[136] It showed a marginal improvement in rates of infant mortality and its position with respect to individual consumption declined.[136] The quality of education in government schools in Gujarat ranked below that of many Indian states.[136] The state government\\'s social policies generally did not benefit Muslims, Dalits and Adivasis, and generally increased social inequalities.[136] Development in Gujarat was generally limited to the urban middle class, and citizens in rural areas and those from lower castes were increasingly marginalised. In 2013, the state ranked 10th of 21 Indian states in the Human Development Index.[9] Under Modi, the state government spent less than the national average on education and healthcare.[136]\\n In September 2013, Modi was named the BJP\\'s candidate for prime minister ahead of the 2014 Lok Sabha election.[198][199] Several BJP leaders,[200] including BJP founding member L. K. Advani who cited concern with leaders who were \"concerned with their personal agendas\", expressed opposition to Modi\\'s candidature.[201] Modi played a dominant role in the BJP\\'s 2009 general election campaign.[202][203] Several people who voted for the BJP stated they would have voted for another party if Modi had not been the prime-ministerial candidate.[198][204][205] The focus on Modi as an individual was unusual for a BJP election campaign.[200][206] The election was described as a referendum on Narendra Modi.[191]\\n During the campaign, Modi focused on corruption scandals under the previous Congress government, and played on his image as a politician who had created a high rate of GDP growth in Gujarat.[200] He projected himself as a person who could bring about \"development\" without focusing on specific policies.[200] His message found support among young and middle-class people. The BJP under Modi was able to downplay concerns about the protection of religious minorities and Modi\\'s commitment to secularism, areas in which he had previously received criticism.[203] Prior to the election, Modi\\'s media image had centred around his role in the 2002 Gujarat riots but during the campaign, the BJP focused on Modi\\'s neoliberal ideology and the Gujarat model of development.[203] The BJP sought to identify itself with political leaders who publicly opposed Hindu nationalism, including B. R. Ambedkar, Subhas Chandra Bose and Ram Manohar Lohia.[164] Hindutva remained a part of the campaign; BJP leaders used Hindutva-based rhetoric in several states.[207][200][204][41] Communal tensions were played upon, especially in Uttar Pradesh and Northeast India.[207] A proposal for the controversial Uniform Civil Code was a part of the BJP\\'s election manifesto.[41]\\nThe BJP\\'s campaign was assisted by its wide influence in the media.[196] Modi\\'s campaign blitz cost around ₹50 billion (US$630\\xa0million)[191] and the BJP received extensive financial support from corporate donors.[208] In addition to more-conventional campaign methods, Modi made extensive use of social media[191][200] and addressed more than 1,000 rallies via hologram appearances.[41]\\n The BJP won 31 percent of the vote,[40] and more-than-doubled its number of seats in the Lok Sabha to 282, becoming the first party to win a majority of seats on its own since 1984.[203][204] Voter dissatisfaction with the Congress and with regional parties in North India, and support from the RSS were reasons for the BJP\\'s success.[204][200] In states such as Uttar Pradesh, where the BJP performed well, it drew exceptionally high support from upper-caste Hindus, and its Muslim vote increased to 10 percent. The BJP performed particularly well in parts of the country that had recently experienced violence between Hindus and Muslims.[204] The magnitude of the BJP\\'s victory led many commentators to say the election constituted a political realignment away from progressive parties towards the right-wing.[41][191][204][209][210] Modi\\'s tweet announcing his victory was described as being emblematic of the political realignment away from a secular, socialist state towards capitalism and Hindu cultural nationalism.[211]\\n Modi was a candidate for the Lok Sabha constituencies Varanasi and Vadodara.[212] He won in both constituencies, defeating Aam Aadmi Party leader Arvind Kejriwal in Varanasi by 371,784 votes and Madhusudan Mistry of the Congress in Vadodara by 570,128 votes.[213] India\\'s president appointed Modi, who was unanimously elected leader of the BJP, Prime Minister of India.[214][215] To comply with the law prohibiting MPs from representing more than one constituency, he vacated the Vadodara seat.[216]\\n On 13 October 2018, Modi was named the BJP candidate for prime minister in the 2019 general election.[217] The BJP\\'s chief campaigner was its president Amit Shah. Modi launched the party\\'s Main Bhi Chowkidar (\"I too am a watchman\") campaign ahead of the general election, against the INC\\'s campaign slogan Chowkidar Chor Hai (\"The watchman is a thief\").[218] In 2018, the Telugu Desam Party split from the NDA over the campaign for special status for Andhra Pradesh.[219]\\n Amit Shah launched the BJP\\'s election campaign on 8 April 2019. In the campaign, the opposition targeted Modi on allegations of corruption over the Rafale deal with the Government of France, highlighting the controversy surrounding the deal.[220] Modi\\'s campaign focused on defence and national security, especially after the Pulwama attack and the retaliatory Balakot airstrike, which was counted as an achievement of his administration.[17][221] Other topics in the campaign were development and good foreign relations in the first premiership.[222]\\n Modi contested the Lok Sabha election as a candidate for Varanasi; he won the seat by a margin of 479,505 votes, defeating Shalini Yadav of the Samajwadi Party (SP), who stood as a candidate for the SP-BSP alliance.[223][224] Modi was unanimously appointed prime minister for a second time by the National Democratic Alliance[225] after the alliance won the election for the second time with 353 seats in the Lok Sabha; the BJP alone won 303 seats.[226][227]\\n After the Bharatiya Janata Party-led National Democratic Alliance (NDA) won a landslide in the 2014 Lok Sabha election, Modi was sworn in as Prime Minister (PM) of India on 26 May 2014, becoming the first Indian PM to be born after the country\\'s independence from the British Empire in 1947.[228] Modi\\'s second term as PM began in 2019 following the NDA\\'s 2019 Lok Sabha election win. On 6 December 2020, he became the fourth-longest-serving Prime Minister of India and the longest-serving non-Congress prime minister.[229]\\n Modi\\'s first year as PM saw significant centralisation of power.[164][230] Modi, who initially lacked a majority in the Rajya Sabha, the upper house of Indian Parliament, passed a number of ordinances to enact his policies, leading to further centralisation of power.[231] His administration enacted a bill to increase its control over the appointment of judges and reducing that of the judiciary.[40] In December 2014, he abolished the Planning Commission, replacing it with the National Institution for Transforming India (NITI Aayog),[232][233] concentrating the power previously with the planning commission in the person of the PM.[231][232][233][234][235] The Planning Commission had in previous years been criticised for creating inefficiency in the government and of not fulfilling its role of improving social welfare but since the economic liberalisation of the 1990s, it had been the major government body responsible for measures related to social justice.[233]\\n In its first year of administration, the Modi government launched investigations through the Intelligence Bureau into numerous civil society organisations and foreign non-governmental organisations (NGOs) on the grounds these organisations were slowing economic growth. The investigation was criticised as a witch hunt. International humanitarian aid organisation Medecins Sans Frontieres, and environmental nonprofit organisation Sierra Club and Avaaz were among the groups that were investigated.[164][234] Cases of sedition and terrorism laws were filed against individuals who criticised the government.[164][236] This led to discontent within the BJP about his style of functioning and drew comparisons to the governing style of Indira Gandhi.[164][231]\\n Modi repealed 1,200 obsolete laws in first three years as prime minister; 1,301 such laws had been repealed by previous governments in the previous 64 years.[237][238][239] Modi launched the Digital India programme with the goal of ensuring government services are available electronically, build infrastructure to provide high-speed Internet access to rural areas, boost manufacturing of electronic goods in the country, and promote digital literacy.[240][241]\\n In 2019, a law to reserve 10 percent of educational admission and government jobs for economically disadvantaged individuals was passed.[242][243] In 2016, Modi\\'s administration launched the Ujjwala scheme to provide free liquefied petroleum gas (LPG) connections to rural households. The scheme led to an additional 24% of Indian households having access to LPG in 2019 as compared to 2014.[244] In 2022, the government eliminated LPG subsidies for all citizens except those covered by the Ujjwala program.[245]\\n The activities of a number of Hindu nationalist organisations increased in scope after Modi\\'s appointment as prime minister, sometimes with the government\\'s support.[246][247] These activities included a Hindu religious conversion programme, a campaign against the supposed Islamic practice of \"Love Jihad\" and attempts to celebrate Nathuram Godse, the assassin of Mahatma Gandhi, by members of the right-wing organisation Hindu Mahasabha.[248][249] Government officials, including the Home Minister, defended the conversion programmes.[207]\\n Links between the BJP and the Rashtriya Swayamsevak Sangh (RSS) grew stronger under Modi. The RSS provided organisational support to the BJP\\'s electoral campaigns while the Modi administration appointed RSS-affiliated individuals to prominent government positions.[250] In 2014, Yellapragada Sudershan Rao, who had previously been associated with the RSS, became the chairperson of the Indian Council of Historical Research (ICHR).[41] Historians and former members of the ICHR, including those sympathetic to the BJP, questioned Rao\\'s credentials as a historian and stated the appointment was part of an agenda of cultural nationalism.[41][251][252] During its first term, the Modi administration appointed other RSS members to lead universities and research institutions, and recruitment of faculty members favouring the RSS increased. According to scholars Nandini Sundar and Kiran Bhatty, many of these appointees did not possess the qualifications for their positions.[253] The Modi administration also made numerous changes in government-approved history textbooks that de-emphasised the role of Jawaharlal Nehru and glorified that of Modi while also portraying Indian society as harmonious, and without conflict and inequity.[253][254]\\n In 2019, the Modi administration passed a citizenship law that provides a route to Indian citizenship for persecuted religious minorities from Afghanistan, Bangladesh and Pakistan who are Hindus, Sikhs, Buddhists, Jains, Parsis or Christians,[255][256] but does not grant eligibility to Muslims.[257][258][259] This was first time religion had been overtly used as a criterion for citizenship under Indian law; it attracted global criticism and prompted widespread protests that were halted by the COVID-19 pandemic.[253][259][260] Counter-demonstrations against the protests developed into the 2020 Delhi riots, caused chiefly by Hindu mobs attacking Muslims.[261][262] Fifty-three people were killed in the protests, two-thirds of whom were Muslim.[263][264][265][266][267] On 5 August 2020, Modi visited Ayodhya after the Supreme Court in 2019 ordered contested land in Ayodhya to be handed to a trust to build a Hindu temple and ordered the government to give alternative 5 acres (2.0\\xa0ha) of land to the Sunni Waqf Board for the purpose of building a mosque.[268] Modi became the first PM to visit temples at Ram Janmabhoomi and Hanuman Garhi.[269]\\n Soon after Modi returned to power in 2019, he took three actions the RSS had long called for.[253] The practice of Triple Talaq was made illegal and became a punishable act from 1 August 2019.[270][271][272] The administration repealed Article 370 of the Indian constitution that granted autonomy to Jammu and Kashmir, and also abrogated its statehood, reorganizing it into the union territories Jammu and Kashmir, and Ladakh.[253][273] The region was placed under a lockdown and internet services were suspended and were not completely restored until February 2021.[274] Thousands of people, including hundreds of political leaders, were detained.[275][276][277][278] The Supreme Court of India did not hear constitutional challenges to the reorganisation or the Citizenship Amendment Act. According to Bhatty and Sundar, this is an example of the subversion of the Supreme Court and other major institutions, which were filled with appointees favouring the BJP.[253]\\n The Modi government\\'s economic policies focused on privatisation and liberalisation of the economy, and were based on a neoliberal framework.[234][279] Modi liberalised India\\'s foreign direct investment policies, allowing more foreign investment in several industries, including defence and railways.[234][280][281] Other proposed reforms included making the forming of unions more difficult for workers, and making recruitment and dismissal easier for employers;[279] some of these proposals were abandoned after protests.[282] The reforms drew strong opposition from unions; on 2 September 2015, eleven of the country\\'s largest unions—including one affiliated with the BJP—struck.[279] The Bharatiya Mazdoor Sangh (Indian Workers Union), a constituent of the Sangh Parivar (Family of the RSS), stated the underlying motivation of labour reforms favoured corporations over labourers.[234]\\n The funds dedicated to poverty-reduction programmes and social welfare measures were greatly reduced by Modi\\'s administration.[164] The money spent on social programmes declined from 14.6 percent of GDP during the previous Congress government to 12.6 percent during Modi\\'s first year in office, and spending on health and family welfare declined by 15 percent.[234] The government lowered corporate taxes, abolished the wealth tax, increased sales taxes, and reduced customs duties on gold and jewellery.[234] In October 2014, the Modi government deregulated diesel prices.[283] During Modi\\'s first term, his government reduced spending on education as share of the budget; over five years, education spending dropped from 0.7 percent of GDP to 0.5 percent.[284][285][286] The percentage of the budget spent on children\\'s nutrition, education, health, and associated programmes was almost halved between 2014 and 2022.[287] Capital expenditure on transport infrastructure significantly rose, increasing from less than 0.4 percent of GDP in 2014 to 1.7 percent in 2023.[288]\\n In September 2014, Modi introduced the Make in India initiative to encourage foreign companies to manufacture products in India with the goal of turning the country into a global manufacturing hub.[234][289] Supporters of economic liberalisation supported the initiative but critics said it would allow foreign corporations to capture a greater share of the Indian market.[234] Modi\\'s administration passed a land-reform bill that allowed it to acquire private agricultural land without conducting a social impact assessment, and without the consent of the farmers who owned it.[290] The bill was passed via an executive order after it faced opposition in Parliament but was eventually allowed to lapse.[231] Modi\\'s government passed the Goods and Services Tax, the biggest tax reform in the country since independence, subsuming around 17 taxes and became effective on 1 July 2017.[291]\\n In his first cabinet decision, Modi set up a team to investigate black money.[292] On 9 November 2016, the government demonetised ₹500 and ₹1000 banknotes with the intention of curbing corruption, black money, terrorism and the use of counterfeit currency.[293] The move led to severe cash shortages,[294][295][296] and a steep decline in the Indian stock indices BSE SENSEX and NIFTY 50,[297] and sparked widespread protests throughout the country.[298] It is estimated 1.5 million jobs were lost and that one percent of the country\\'s GDP was wiped out.[299] Several deaths were linked to the rush to exchange cash.[300][301] In the subsequent year, the number of income tax returns filed for individuals rose by 25 percent and the number of digital transactions steeply increased.[302][303]\\n Modi\\'s administration has observed a decline in GDP growth and increasing joblessness compared to the previous administration under Manmohan Singh.[304] During the first eight years of Modi\\'s premiership, India\\'s GDP grew at an average rate of 5.5% percent compared tho the rate of 7.03 percent under the previous government.[305] Income inequality increased;[306] an internal government report said in 2017, unemployment increased to its highest level in 45 years. The loss of jobs was attributed to the 2016 banknote demonetisation, and the effects of the Goods and Services Tax.[307][308] GDP growth was 6.12 percent in the 2018–19 financial year, with an inflation rate of 3.4 percent.[309] In the year 2019–20, the GDP growth rate slowed to 4.18 percent, while inflation increased to 4.7 percent.[310] The Indian economy shrunk by 6.6 percent during the COVID-19 pandemic in 2020–21, and was estimated to grow at 8.2 percent the following financial year.[311]\\n In his first year as prime minister, Modi reduced the central government\\'s healthcare spending.[197] In January 2015, the Modi government launched its New Health Policy (NHP), which did not increase the government\\'s spending on healthcare but emphasised the role of private healthcare organisations. This represented a shift away from the policy of the previous Congress government, which had supported programmes to assist public health goals, including a reduction in child and maternal mortality rates.[312] The National Health Mission, which included public health programmes targeted at these indices, received nearly 20 percent less funding[313][314] in 2015 than in the previous year. The Modi administration reduced the healthcare budget by a further 15% in its second year.[315] The healthcare budget for the following year rose by 19%; private insurance providers positively viewed the budget but public health experts criticised its emphasis on the role of private healthcare providers and said it represented a shift away from public health facilities.[316] The healthcare budget rose by 11.5% in 2018; the change included an allocation of ₹20 billion (US$250\\xa0million) for a government-funded health insurance program and a decrease in the budget of the National Health Mission.[317]\\n Modi emphasised his government\\'s efforts at sanitation as a means of ensuring good health.[312] On 2 October 2014, Modi launched the Swachh Bharat Mission (\"Clean India\") campaign. The campaign\\'s stated goals included the elimination of open defecation and manual scavenging within five years.[318][319] As part of the programme, the Indian government began constructing millions of toilets in rural areas and encouraging people to use them.[320][321][322] The government also announced plans to build new sewage treatment plants,[323] and planned to construct 60\\xa0million toilets by 2019. The construction projects faced allegations of corruption and severe difficulty in getting people to use the newly constructed toilets.[319][320][321] Sanitation cover in India increased from 38.7% in October 2014 to 84.1% in May 2018 but use of the new sanitary facilities was lower than the government\\'s targets.[324] In 2018, the World Health Organization (WHO) stated at least 180,000 diarrhoeal deaths in rural India were averted after the launch of the sanitation effort.[325]\\n In March 2020, in response to the COVID-19 pandemic, the Modi administration invoked the Epidemic Diseases Act, 1897 and Disaster Management Act, 2005.[326][327] The same month, all commercial domestic and international flights were suspended.[328] Modi announced a 14-hour curfew on 22 March,[329] and followed with a three-week \"total lockdown\" two days later.[330][331] Restrictions were gradually lifted beginning in April, and were completely revoked in November 2020.[328][332][333] A second wave of the pandemic that began in March 2021 was significantly more devastating than the first; some parts of India experienced shortages of vaccines, hospital beds, oxygen cylinders and other medical supplies.[334] In late April India reported over 400,000 cases in a 24-hour period, the first country to do so.[335] India began its vaccination programme in January 2021;[336][337] in January 2022, India announced it had administered about 1.7 billion doses of vaccines and that more than 720 million people were fully vaccinated.[338] In May 2022, the WHO estimated 4.7 million people had died of COVID-19 in India, mostly during the second wave in mid 2021—almost 10 times the Indian government\\'s estimate. The Modi administration rejected the WHO\\'s estimate.[25][26] India\\'s death toll was thus the highest worldwide, accounting for more than 20% of all Covid deaths.[339]\\n Foreign policy played a small role in Modi\\'s election campaign and did not feature prominently in the BJP\\'s election manifesto.[340] Modi\\'s foreign policy, similarly to that of the preceding Congress government, focused on improving economic ties, security and regional relations.[340] Modi continued Manmohan Singh\\'s policy of \"multi-alignment\".[340] The Modi administration tried to attract foreign investment in the Indian economy from several sources, especially East Asia, with the use of slogans such as \"Make in India\" and \"Digital India\". The government also tried to improve relations with Islamic nations in the Middle East, such as Bahrain, Iran, Saudi Arabia and the United Arab Emirates, as well as with Israel.[l]\\n India\\'s relationship with the United States improved after Narendra Modi became PM.[342] During the run-up to the general election, there was wide-ranging scepticism about future of the strategic bilateral relationship under Modi\\'s premiership; in 2005, while Chief Minister of Gujarat, Modi was denied a US visa during the presidency of George W. Bush for his poor human-rights record.[167][168] Sensing Modi\\'s victory well before the election, US Ambassador to India Nancy Powell contacted Modi as part of greater rapprochement from the West. Following Modi\\'s 2014 appointment as India\\'s PM, President Obama congratulated him over the telephone and invited Modi to visit the US.[343] The Modi government enjoyed a positive relationship with the US during the presidencies of Barack Obama and his successor Donald Trump.[344][345]\\n During the first few months after his appointment as PM, Modi visited a number of countries in support of his policy, and attended the BRICS, ASEAN and G20 summits.[340] One of Modi\\'s first visits as PM was to Nepal, during which he promised one billion US dollars in aid.[346] Modi also made several visits to the US;[347] this was described as an unexpected development because of the US\\'s earlier denial of a US travel visa to Modi over his role in the 2002 Gujarat riots. The visits were expected to strengthen diplomatic and trade relations between the two countries.[347]\\n In 2015, the Indian parliament ratified a land-exchange deal with Bangladesh in the India–Bangladesh enclaves, which the government of Manmohan Singh had initiated.[231] Modi\\'s administration brought renewed attention to India\\'s \"Look East Policy\", which was instituted in 1991. The policy, which was renamed the \"Act East Policy\", involved directing Indian foreign policy towards East Asia and Southeast Asia.[348] The government signed agreements to improve land connectivity with Myanmar through the Indian state of Manipur; this represented a break with India\\'s historic engagement with Myanmar, which prioritised border security over trade.[348] China–India relations rapidly deteriorated following the 2020 China–India skirmishes.[349] Modi pledged aid of $900 million to Afghanistan, which he visited twice and was honoured with Afghanistan\\'s highest civilian honour in 2016.[350][351] In September 2022, Modi appeared to have developed a strong personal relationship with Russia\\'s President Vladimir Putin.[352][353][354]\\n India\\'s nominal military spending steadily increased under Modi.[355] During Modi\\'s tenure, the military budget declined, both as a fraction of GDP and when adjusted for inflation.[356][357] A substantial portion of the military budget was devoted to personnel costs commentators wrote the budget was constraining Indian military modernisation.[356][358][357]\\n Modi promised to be \"tough on Pakistan\" during his election campaign and repeatedly called Pakistan an exporter of terrorism.[359][360][361] On 29 September 2016, the Indian Army stated it had conducted a surgical strike on terror launch pads in Azad Kashmir; the Indian media said up to 50 terrorists and Pakistani soldiers had been killed in the strike.[362][363][364] Pakistan initially denied any strikes had taken place.[365] Subsequent reports said India\\'s statement about the scope of the strike and the number of casualties had been exaggerated, although cross-border strikes had been carried out.[359][366][367] In February 2019, India carried out airstrikes against a supposed terrorist camp in Pakistan; no targets of significance were hit.[368][369] Further military skirmishes, including cross-border shelling and the loss of an Indian aircraft, occurred.[370][371][372]\\n Following Modi\\'s victory in 2019 Indian general election, he focused more on India\\'s defence policies, especially those on  China and Pakistan.[373] On 5 May 2020, Chinese and Indian troops engaged in an aggressive melee and skirmishes at locations along the Sino-Indian border, including those near the disputed Pangong Lake, Ladakh, and Tibet Autonomous Region; and near the border between Sikkim and Tibet Autonomous Region. Additional clashes took place in eastern Ladakh along the Line of Actual Control (LAC).[374] In 2020, skirmishes between the nations led to many border clashes, responses and reactions from both sides.[375] A series of talks between India and China were held, using military and diplomatic means for peace.[376] The first border clash reported in 2021 was on 20 January; this was referred to as a minor border clash in Sikkim.[377]\\n In December 2021, Modi signed an agreement with Russian leader Vladimir Putin to extend military technical cooperation.[378] The Modi government bought the S-400 missile system, an anti-missile striking system, strengthening the relationship between the two nations.[379] India refused to condemn the 2022 Russian invasion of Ukraine and stayed neutral.[378][380] The Indian government\\'s Operation Ganga initiative sought to return Indians stranded in Ukraine during the war. More than 19,000 Indian nationals were evacuated,[381][382] including some from neighbouring countries.[383]\\n While naming his cabinet, Modi renamed the Ministry of Environment and Forests the \"Ministry of Environment, Forests, and Climate Change\", and more-than-halved its money allocation in his administration\\'s first budget.[384] The new ministry removed or diluted a number of laws related to environmental protection, and others related to industrial activity.[234] The government also tried to reconstitute the National Board for Wildlife so it would no longer have representatives from NGOs but the Supreme Court of India blocked this move.[385] Other changes included a reduction of ministry oversight on small mining projects and ending the requirement for approval from tribal councils for projects inside forested areas. Modi also lifted a moratorium on new industrial activity in India\\'s most-polluted areas.[385] The changes were welcomed by businesspeople but criticised by environmentalists.[386]\\n Speaking with Assamese students in 2014, Modi downplayed climate change, saying; \"Climate has not changed. We have changed. Our habits have changed. Our habits have got spoiled. Due to that, we have destroyed our entire environment.\"[387] Later in his administration, however, he has called for climate action,[388][389] especially with the proliferation of clean energy.[390][391] In 2015, Modi proposed the International Solar Alliance initiative to encourage investment in solar energy.[392] Holding developed countries responsible,[393] Modi and his government have said India has had a negligible historical role in climate change. At the COP26 conference, Modi announced India would target carbon neutrality by 2070 and expand its renewable energy capacity.[394] Indian environmentalists and economists applauded the decision, describing it as bold climate action.[395] India has become the only major economy to be on track to meet its Paris Agreement goals.[396] It has achieved 10 percent of ethanol blending five months ahead of schedule.[397]\\n Under Modi\\'s tenure, India has experienced democratic backsliding.[g] According to one study, \"The BJP government incrementally but systemically attacked nearly all existing mechanisms that are in place to hold the political executive to account, either by ensuring that these mechanisms became subservient to the political executive or were captured by party loyalists\".[32][398] The Modi government has used state power to intimidate and stifle critics in the media and academia, undermining freedom of expression and alternative sources of information.[399][33] His administration has been ctiticised for using a democratic mandate to undermine democratic processes, including focusing on Hindu-nationalist priorities rather than economic development. Modi\\'s second term as PM, in particular, saw the erosion of civil rights and press freedom.[400]\\n Narendra Modi has received consistently high approval ratings during his premiership;[36] he is often ranked in popular opinion polls as the greatest prime minister in Indian history.[401][402][403]\\n Modi is a vegetarian and teetotaler,[404][405] who has a frugal lifestyle, and is a workaholic and introvert.[406] On 31 August 2012, he posted on Google Hangouts, becoming the first Indian politician to interact with citizens on a live chat.[407][408] Modi has been called a fashion icon for his signature crisply ironed, half-sleeved kurta, and for a suit with his name repeatedly embroidered in the pinstripes, which he wore during a state visit by US President Barack Obama, which drew public and media attention, and criticism.[409][410][411] Scholars and biographers have described Modi\\'s personality as energetic, arrogant and charismatic.[40][412]\\n The nomination of Modi for the prime-ministership drew attention to his reputation as \"one of contemporary India\\'s most controversial and divisive politicians\".[191][413][414] During the 2014 election campaign, the BJP projected an image of Modi as a strong, masculine leader who would be able to take difficult decisions.[191][198][200][204][205] Campaigns in which he has participated have focused on Modi as an individual, a unusual tactic for the BJP and RSS.[200] Modi has relied upon his reputation as a politician able to bring about economic growth and development.[415] Modi\\'s role in the 2002 Gujarat riots continues to attract criticism and controversy.[8] Modi\\'s hardline Hindutva philosophy and the policies adopted by his government also continue to draw criticism, and have been seen as evidence of a majoritarian and exclusionary social agenda.[8][40][164][200]\\n During his premiership, Modi has received consistently high approval ratings; at the end of his first year in office, he received an overall approval rating of 87% in a Pew Research poll, with 68% of respondents rating him \"very favorably\" and 93% approving of his government.[416] Modi\\'s approval rating remained largely consistent at around 74% during his second year in office, according to a nationwide poll conducted by instaVaani.[417] At the end of his second year in office, an updated Pew Research poll showed Modi continued to receive high overall approval ratings of 81%, with 57% of those polled rating him \"very favorably\".[418][419] At the end of his third year in office, a further Pew Research poll showed Modi with an overall approval rating of 88%, his highest yet, with 69% of people polled rating him \"very favorably\".[420] A poll conducted by The Times of India in May 2017 showed 77% of respondents rated Modi as \"very good\" and \"good\".[421] In early 2017, a survey by Pew Research Center showed Modi to be the most popular figure in Indian politics.[422] In a weekly analysis by Morning Consult called the Global Leader Approval Rating Tracker, Modi had the highest net approval rating as of 22 December 2020 of all government leaders in the 13 countries being tracked.[423][424]\\n Modi Kaka Ka Gaon (Modi uncle\\'s town), a 2017 Indian Hindi-language drama film by Tushar Amrish Goel, is the first biopic about Modi. It stars Vikas Mahante in the titular role.[425] PM Narendra Modi, a 2019 Hindi-language biographical drama film by Omung Kumar, stars Vivek Oberoi in the titular role and covers Modi\\'s rise to the premiership.[426] An Indian web series called Modi: Journey of a Common Man, which is based on the same premise, was released in May 2019 on the video streaming platform Eros Now with Ashish Sharma portraying Modi.[427]\\n 7 RCR (7, Race Course Road), a 2014 Indian docudrama political television series which charts the political careers of prominent Indian politicians, covered Modi\\'s rise to the PM\\'s office in the episodes \"Story of Narendra Modi from 1950 to 2001\", \"Story of Narendra Modi in Controversial Years from 2001 to 2013\", \"Truth Behind Brand Modi\", \"Election Journey of Narendra Modi to 7 RCR\", and \"Masterplan of Narendra Modi\\'s NDA Govt\"; with Sangam Rai in the role of Modi.[428] India: The Modi Question, a 2023 BBC documentary, examines Modi\\'s role in the 2002 Gujarat riots and his record as Prime Minister of India. The Indian government banned the documentary, drawing widespread criticism.[429][430][431][432]\\n Other portrayals of Modi include those by Rajit Kapur in the film Uri: The Surgical Strike (2019) and Vikram Gokhale in the web-television series Avrodh: The Siege Within (2020), both of which are based on the 2016 Uri attack and the subsequent Indian surgical strikes.[433][434] Gokhale reprised the role in the sequel Avrodh: The Siege Within 2 (2022), which is based on the 2016 Indian banknote demonetisation.[435] Pratap Singh played a character based on Modi in Chand Bujh Gaya (2005) which is set against the backdrop of the Gujarat riots.[436]\\n Modi appeared in an episode of Discovery Channel\\'s show Man vs Wild with the host Bear Grylls,[437][438] becoming the second world leader after Barack Obama to appear in the reality show.[439] In the show, Modi treks through jungles, and talks about nature and wildlife conservation with Grylls.[440] The episode was recorded in Jim Corbett National Park, Uttarakhand, and was broadcast in India and 180 other countries.[441] Modi hosts Mann Ki Baat, a monthly radio programme on All India Radio, and has conducted the competition Pariksha Pe Charcha, and discussions for students and the issues they face in examinations.[442][443]\\n In March 2012 and June 2014, Narendra Modi appeared on the cover of the Asian edition of Time Magazine, becoming one of the few Indian politicians to have done so.[444][445] In 2014, CNN-News18 (formally CNN-IBN) news network awarded Modi Indian of the Year.[446] In June 2015, Modi was featured on the cover of Time Magazine.[447] In 2014, 2015, 2017, 2020 and 2021, he was named one of Time magazine\\'s 100 Most Influential People in the World.[448] Forbes Magazine ranked him the 15th Most Powerful Person in the World in 2014 and the 9th Most Powerful Person in the World in 2015, 2016 and 2018.[449] In 2015, Modi was ranked the 13th Most Influential Person in the World by Bloomberg Markets Magazine.[450] In 2021 Time called Modi the third \"pivotal leader\" of independent India after Jawaharlal Nehru and Indira Gandhi, who \"dominated the country\\'s politics like no one since them\".[451][452] Modi was ranked fifth on Fortune Magazine\\'s first annual list of the \"World\\'s Greatest Leaders\" in 2015.[453][454] In 2017, Gallup International Association (GIA) conducted a poll and ranked Modi third-top leader of the world.[455][456] In 2016, a wax statue of Modi was unveiled at Madame Tussauds wax museum in London.[457][458]\\n In 2015, Modi was named one of Time\\'s \"30 Most Influential People on the Internet\" because he was the second-most-followed politician on Twitter and Facebook.[459] In 2018, he was the third-most-followed world leader on Twitter,[citation needed] and the most-followed world leader on Facebook and Instagram.[460][461] In October 2018, Modi received United Nations\\' highest environmental award, the Champions of the Earth, for policy leadership by \"pioneering work in championing\" the International Solar Alliance and \"new areas of levels of cooperation on environmental action\".[462][463] Modi was conferred the 2018 Seoul Peace Prize in recognition of \"his dedication to improving international co-operation, raising global economic growth, accelerating the Human Development of the people of India by fostering economic growth and furthering the development of democracy through anti-corruption and social integration efforts\". He is the first Indian to win the award.[464][465]\\n Following his second swearing-in ceremony as Prime Minister of India, a picture of Modi was displayed on the facade of the Abu Dhabi National Oil Company (ADNOC) building in Abu Dhabi, United Arab Emirates.[466] The Texas India Forum hosted a community event in honour of Modi on 22 September 2019 at NRG Stadium in Houston, Texas. The event was attended by over 50,000 people and several American politicians, including President Donald Trump, making it the largest gathering for an invited foreign leader visiting the United States other than the Pope.[467][468] At the event, Modi was presented with the Key to the City of Houston by Mayor Sylvester Turner.[469] The Bill & Melinda Gates Foundation awarded Modi the Global Goalkeeper Award on 24 September 2019 in New York City, in recognition of the Swachh Bharat Mission and \"the progress India has made in providing safe sanitation under his leadership\".[470][471][472]\\n In 2020, Modi was among eight world leaders who were awarded the parody Ig Nobel Prize in Medical Education \"for using the COVID-19 viral pandemic to teach the world that politicians can have a more immediate effect on life and death than scientists and doctors can\".[473] On 21 December 2020, US President Donald Trump awarded Modi the Legion of Merit for improving India–United States relations.[474][475][476][477] On 24 February 2021, Gujarat Cricket Association renamed Motera Stadium in Ahmedabad—the largest cricket stadium in the world—Narendra Modi Stadium.[478]\\n In 2008, Modi published a Gujarati book titled Jyotipunj, which contains profiles of RSS leaders. The longest was of M. S. Golwalkar, under whose leadership the RSS expanded and whom Modi refers to as Pujniya Shri Guruji (\"Guru worthy of worship\").[497] According to The Economic Times, Modi\\'s intention was to explain the workings of the RSS to his readers, and to reassure RSS members he remained ideologically aligned with them. Modi has written eight other books, mostly containing short stories for children.[498]\\n Modi used to maintain a close and publicised relationship with his centenarian mother, Hiraben.[499]\\n Dharma-Dhamma unity\\n'"
            ],
            "application/vnd.google.colaboratory.intrinsic+json": {
              "type": "string"
            }
          },
          "metadata": {},
          "execution_count": 8
        }
      ]
    },
    {
      "cell_type": "markdown",
      "source": [
        "#Taking a chunk size"
      ],
      "metadata": {
        "id": "-QQtJlowD-yQ"
      }
    },
    {
      "cell_type": "code",
      "source": [
        "max_chunk = 500"
      ],
      "metadata": {
        "id": "zIN-2mLa6zA3"
      },
      "execution_count": 9,
      "outputs": []
    },
    {
      "cell_type": "markdown",
      "source": [
        "#Data preprossing\n"
      ],
      "metadata": {
        "id": "HdDoZ2Q9EBzp"
      }
    },
    {
      "cell_type": "code",
      "source": [
        "ARTICLE = ARTICLE.replace('\\n','')\n",
        "ARTICLE = ARTICLE.replace('.', '.<eos>')\n",
        "ARTICLE = ARTICLE.replace('?', '?<eos>')\n",
        "ARTICLE = ARTICLE.replace('!', '!<eos>')"
      ],
      "metadata": {
        "id": "zu2SnH1k6y9u"
      },
      "execution_count": 10,
      "outputs": []
    },
    {
      "cell_type": "markdown",
      "source": [
        "#splitting the data and creating chunks"
      ],
      "metadata": {
        "id": "ibMnBx0gEHei"
      }
    },
    {
      "cell_type": "code",
      "source": [
        "sentences = ARTICLE.split('<eos>')\n",
        "current_chunk = 0\n",
        "chunks = []\n",
        "for sentence in sentences:\n",
        "    if len(chunks) == current_chunk + 1:\n",
        "        if len(chunks[current_chunk]) + len(sentence.split(' ')) <= max_chunk:\n",
        "            chunks[current_chunk].extend(sentence.split(' '))\n",
        "        else:\n",
        "            current_chunk += 1\n",
        "            chunks.append(sentence.split(' '))\n",
        "    else:\n",
        "        print(current_chunk)\n",
        "        chunks.append(sentence.split(' '))\n",
        "\n",
        "for chunk_id in range(len(chunks)):\n",
        "    chunks[chunk_id] = ' '.join(chunks[chunk_id])"
      ],
      "metadata": {
        "colab": {
          "base_uri": "https://localhost:8080/"
        },
        "id": "_SwnG34r61wW",
        "outputId": "2116486a-588f-42ff-b2c5-64d57b04d965"
      },
      "execution_count": 11,
      "outputs": [
        {
          "output_type": "stream",
          "name": "stdout",
          "text": [
            "0\n"
          ]
        }
      ]
    },
    {
      "cell_type": "code",
      "source": [
        "len(chunks)"
      ],
      "metadata": {
        "colab": {
          "base_uri": "https://localhost:8080/"
        },
        "id": "k_XgmMo-61te",
        "outputId": "bfafa998-e77c-4f2d-b56b-6735ffebd246"
      },
      "execution_count": 12,
      "outputs": [
        {
          "output_type": "execute_result",
          "data": {
            "text/plain": [
              "22"
            ]
          },
          "metadata": {},
          "execution_count": 12
        }
      ]
    },
    {
      "cell_type": "markdown",
      "source": [
        "#summarize the each and every chunk"
      ],
      "metadata": {
        "id": "8pL6CgxKEQTk"
      }
    },
    {
      "cell_type": "code",
      "source": [
        "res = summarizer(chunks, max_length=120, min_length=30, do_sample=False)"
      ],
      "metadata": {
        "id": "-XACqJtw61qc"
      },
      "execution_count": 13,
      "outputs": []
    },
    {
      "cell_type": "markdown",
      "source": [
        "#join the all chunks and getting the final summary"
      ],
      "metadata": {
        "id": "2Fuxmkn_EaX6"
      }
    },
    {
      "cell_type": "code",
      "source": [
        "final_summary = ' '.join([summ['summary_text'] for summ in res])"
      ],
      "metadata": {
        "id": "GuY3-PdJ6y6x"
      },
      "execution_count": 14,
      "outputs": []
    },
    {
      "cell_type": "code",
      "source": [
        "final_summary"
      ],
      "metadata": {
        "colab": {
          "base_uri": "https://localhost:8080/",
          "height": 105
        },
        "id": "pfsDCq_b68gY",
        "outputId": "d2f4f0fe-1d88-42ba-a188-4a46e5a77c30"
      },
      "execution_count": 15,
      "outputs": [
        {
          "output_type": "execute_result",
          "data": {
            "text/plain": [
              "' Narendra Modi is the 14th Prime Minister of India since May 2014 . He is a member of the Bharatiya Janata Party (BJP) and of the Rashtriya Swayamsevak Sangh (RSS) He is the longest-serving prime minister from outside the Indian National Congress . Modi was the Chief Minister of Gujarat from 2001 to 2014 and is the Member of Parliament (MP) for Varanasi .  Narendra Damodardas Modi was born on 17 September 1950 to a Gujarati Hindu family of grocers in Vadnagar, Mehsana district, Bombay State (present-day Gujarat). He was introduced to the Rashtriya Swayamsevak Sangh (RSS) and began attending local shakhas (training sessions) when he was eight years old . Modi has been described as engineering a political realignment towards right-wing politics . He remains a controversial figure domestically and internationally .  Narendra Modi\\'s family arranged a betrothal to Jashodaben Chimanlal Modi, leading to their marriage when she was 17 and he was 18 . Soon afterwards, he abandoned his wife and left home . Modi spent the following two years travelling across northern and north-eastern India . He has described visiting Hindu ashrams founded by Swami Vivekananda .  In 1975, Prime Minister Indira Gandhi declared a state of emergency in India that lasted until 1977 . During this period, many of her political opponents were jailed and opposition groups were banned . Modi was forced to go underground in Gujarat and frequently travelled in disguise to avoid arrest . He became involved in the printing of pamphlets opposing the government, sending them to Delhi and organising demonstrations . Modi became an RSS sambhag pracharak in 1978, overseeing activities in Surat and Vadodara .  Modi was on the selection committee for the 1998 Gujarat Legislative Assembly election . Modi favoured supporters of BJP leader Keshubhai Patel over those supporting Vaghela to end factional division in the party . Modi was promoted to BJP general secretary (organisation) in May of that year . In October 2001, Modi replaced Patel as Chief Minister of Gujarat with the responsibility of preparing the BJP for the upcoming December 2002 election . On 27 February 2002, a train with several hundred passengers burned near Godhra, killing approximately 60 people . The next day, the Vishwa Hindu Parishad called for a  Several scholars have described the violence as a pogrom and others have called it an example of state terrorism . Muslim victims of the riots were subjected to further discrimination when the state government announced their compensation would be half that offered to Hindu victims . In March 2008, the Supreme Court of India reopened several cases related to the riots, including that of the Gulbarg Society massacre, and established a Special Investigation Team (SIT) to look into the issue . The SIT examined Ramachandran\\'s report, and in March 2012 submitted its final report, asking for the case to be  Modi made significant use of anti-Muslim rhetoric during his campaign . The BJP profited from religious polarisation among voters . The government\\'s rhetoric shifted from Hindutva to economic development . He curtailed the influence of Sangh Parivar organisations such as Bharatiya Kisan Sangh and Vishva Hindu Parishad .  Modi completed 2,063 consecutive days as chief minister of Gujarat, making him the longest-serving holder of that post . The BJP won 122 of 182 state-assembly seats in that year\\'s election . Modi attended only Hindu religious ceremonies and had prominent associations with Hindu religious leaders . Modi\\'s 2012 campaign included references to issues known to cause religious polarisation .  A contentious debate surrounds the assessment of Gujarat\\'s economic development during Modi\\'s tenure as chief minister . The state\\'s Gross Domestic Product (GDP) growth rate averaged 10% during his tenure . Modi\\'s policies of making Gujarat attractive for investment included the creation of Special Economic Zones in which labour laws were greatly weakened . Despite its growth rate, Gujarat had a relatively poor record on human development, poverty relief, nutrition and education .  In September 2013, Narendra Modi was named the BJP\\'s candidate for prime minister . Modi played a dominant role in the 2009 general election campaign . The focus on Modi as an individual was unusual for a BJP election campaign. The election was described as a referendum on Narendra Modi .  Narendra Modi was the first Indian PM to be born after independence from the British Empire in 1947 . He was unanimously elected leader of the BJP, Prime Minister of India . Modi was a candidate for the Lok Sabha constituencies Varanasi and Vadodara . He won in both constituencies, defeating Aam Aadmi Party leader Arvind Kejriwal .  Modi\\'s second term as PM began in 2019 following the NDA\\'s 2019 Lok Sabha election win . On 6 December 2020, he became the fourth-longest-serving Prime Minister of India . Modi\\'s first year as PM saw significant centralisation of power . He abolished the Planning Commission, replacing it with the National Institution for Transforming India .  Links between the BJP and the Rashtriya Swayamsevak Sangh (RSS) grew stronger under Modi . The RSS provided organisational support to the BJP\\'s electoral campaigns while the Modi administration appointed RSS-affiliated individuals to prominent government positions . The Modi administration passed a citizenship law that provides a route to Indian citizenship for persecuted religious minorities .  The Modi government\\'s economic policies focused on privatisation and liberalisation of the economy . The funds dedicated to poverty-reduction programmes and social welfare measures were greatly reduced by Modi\\'s administration . The government lowered corporate taxes, abolished the wealth tax, increased sales taxes, and reduced customs duties on gold and jewellery .  Modi\\'s administration has observed a decline in GDP growth and increasing joblessness compared to the previous administration under Manmohan Singh . During the first eight years of Modi\\'s premiership, India\\'s GDP grew at an average rate of 5. 5% percent compared to 7. 03 percent under the previous government . Income inequality increased; an internal government report said in 2017, unemployment increased to its highest level in 45 years .  The Indian government began constructing millions of toilets in rural areas and encouraging people to use them . Sanitation cover in India increased from 38.7% in October 2014 to 84. 1% in May 2018 but use of the new sanitary facilities was lower than the government\\'s targets . The WHO estimated 4. 7 million people had died of COVID-19 in India, mostly during the second wave in mid 2021 .  Modi\\'s government enjoyed a positive relationship with the US during the presidencies of Barack Obama and his successor Donald Trump . In 2005, while Chief Minister of Gujarat, Modi was denied a US visa during the presidency of George W. Bush for his poor human-rights record .  Modi focused more on India\\'s defence policies, especially those on China and Pakistan . In February 2019, India carried out airstrikes against a supposed terrorist camp in Pakistan; no targets of significance were hit . India refused to condemn the 2022 Russian invasion of Ukraine and stayed neutral .  Narendra Modi has received consistently high approval ratings during his premiership . He has been called a fashion icon for his signature crisply ironed, half-sleeved kurta and for his suit with his name embroidered in the pinstripes, which he wore during a state visit by US President Barack Obama, which drew public and media attention, and criticism . His hardline Hindutva philosophy and policies adopted by his government also continue to draw criticism .  During his premiership, Modi has received consistently high approval ratings . At the end of his first year in office, he received an overall approval rating of 87% in a Pew Research poll, with 68% of respondents rating him \"very favorably\" and 93% approving of his government . In early 2017, a survey by Pew Research Center showed Modi to be the most popular figure in Indian politics . Other portrayals of Modi include those by Rajit Kapur in the film Uri: The Surgical Strike (2019) and Vikram Gokhale in the web-television series  Modi appeared in an episode of Discovery Channel\\'s show Man vs Wild with Bear Grylls . Modi hosts Mann Ki Baat, a monthly radio programme on All India Radio . Pratap Singh played a character based on Modi in Chand Bujh Gaya (2005) which is set against the backdrop of the Gujarat riots .  The Texas India Forum hosted a community event in honour of Modi on 22 September 2019 at NRG Stadium in Houston, Texas . The Bill & Melinda Gates Foundation awarded Modi the Global Goalkeeper Award on 24 September 2019 in New York City . Modi was among eight world leaders who were awarded the parody Ig Nobel Prize in Medical Education in 2020 .'"
            ],
            "application/vnd.google.colaboratory.intrinsic+json": {
              "type": "string"
            }
          },
          "metadata": {},
          "execution_count": 15
        }
      ]
    }
  ]
}